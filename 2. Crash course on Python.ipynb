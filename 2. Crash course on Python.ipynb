{
 "cells": [
  {
   "cell_type": "markdown",
   "metadata": {
    "slideshow": {
     "slide_type": "slide"
    }
   },
   "source": [
    "# A crash course on Python for Data Analysis\n",
    "\n",
    "1.\tPython basic programming:\n",
    "    + Python modules or how to extend the basic instruction set\n",
    "    + Data Types and Operations\n",
    "    + A program in Python\n",
    "    + A function in Python\n",
    "    + Slicing\n",
    "    + References\n",
    "    + Comprehensions\n",
    "    + Generators\n",
    "    + Objects\n",
    "    + Reading data\n",
    "    + Python Goodies\n",
    "2.\tAdvanced programming for data analysis: NumPy\n",
    "3.  Advanced programming for data analysis: pandas\n",
    "4.  Matplotlib\n",
    "5.  Sklearn\n",
    "\n",
    "# Python online resources\n",
    "\n",
    "+ Python Practice Book: [Link](http://anandology.com/python-practice-book/index.html)\n",
    "+ Python Online Course at Code Academy: [Link](http://www.codecademy.com/en/tracks/python)\n",
    "+ Think Python: How to Think Like a Computer Scientist Book: [Link](http://greenteapress.com/thinkpython/index.html)"
   ]
  },
  {
   "cell_type": "markdown",
   "metadata": {},
   "source": [
    "## Python\n",
    "\n",
    "The software program that you use to invoke operators is called an **interpreter**. \n",
    "\n",
    "You enter your commands as a ‘dialog’ between you and the interpreter. \n",
    "\n",
    "Commands can be entered as part of a script (a text file with a list of commands to perform) or directly at the *cell*. \n",
    "\n",
    "In order to ask to the interpreter what to do, you must **invoke** an operator:"
   ]
  },
  {
   "cell_type": "code",
   "execution_count": null,
   "metadata": {
    "collapsed": false,
    "slideshow": {
     "slide_type": "subslide"
    }
   },
   "outputs": [],
   "source": [
    "3 + 4 + 9"
   ]
  },
  {
   "cell_type": "code",
   "execution_count": null,
   "metadata": {
    "collapsed": false,
    "slideshow": {
     "slide_type": "slide"
    }
   },
   "outputs": [],
   "source": [
    "range(10)"
   ]
  },
  {
   "cell_type": "markdown",
   "metadata": {
    "slideshow": {
     "slide_type": "slide"
    }
   },
   "source": [
    "It’s helpful to think of the computation carried out by an operator as involving four parts:\n",
    "\n",
    "+ The name of the operator\n",
    "+ The input arguments\n",
    "+ The output value\n",
    "+ Side effects\n",
    "\n",
    "A typical operation takes one or more input arguments and uses the information in these to produce an output value. Along the way, the computer might take some action: display a graph, store a file, make a sound, etc. These actions are called side effects."
   ]
  },
  {
   "cell_type": "markdown",
   "metadata": {},
   "source": [
    "Python is a general-purpose programming language, so when we want to use more specific commands (such as statistical operators or string processing operators) we usually need to import them before we can use them. <br>"
   ]
  },
  {
   "cell_type": "markdown",
   "metadata": {},
   "source": [
    "For Scientific Python, one of the most important libraries that we need is **numpy** (Numerical Python), which can be loaded like this: ``import numpy as np``"
   ]
  },
  {
   "cell_type": "code",
   "execution_count": null,
   "metadata": {
    "collapsed": false
   },
   "outputs": [],
   "source": [
    "import numpy as np\n",
    "np.sqrt(25)"
   ]
  },
  {
   "cell_type": "code",
   "execution_count": null,
   "metadata": {
    "collapsed": false
   },
   "outputs": [],
   "source": [
    "np.arange(10)"
   ]
  },
  {
   "cell_type": "code",
   "execution_count": null,
   "metadata": {
    "collapsed": false
   },
   "outputs": [],
   "source": [
    "type(np.arange(10))"
   ]
  },
  {
   "cell_type": "markdown",
   "metadata": {},
   "source": [
    "Access to the functions, variables and classes of a module depends on the way the module was imported:"
   ]
  },
  {
   "cell_type": "code",
   "execution_count": null,
   "metadata": {
    "collapsed": false
   },
   "outputs": [],
   "source": [
    "import math\n",
    "math.cos(math.pi)"
   ]
  },
  {
   "cell_type": "code",
   "execution_count": null,
   "metadata": {
    "collapsed": false
   },
   "outputs": [],
   "source": [
    "import math as m           # import using an alias\n",
    "m.cos(m.pi)"
   ]
  },
  {
   "cell_type": "code",
   "execution_count": null,
   "metadata": {
    "collapsed": false
   },
   "outputs": [],
   "source": [
    "from math import cos,pi    # import only some functions\n",
    "cos(pi)"
   ]
  },
  {
   "cell_type": "code",
   "execution_count": null,
   "metadata": {
    "collapsed": false
   },
   "outputs": [],
   "source": [
    "from math import *         # global import\n",
    "cos(pi)"
   ]
  },
  {
   "cell_type": "markdown",
   "metadata": {},
   "source": [
    "It is critical to define a clear policy for ``import``"
   ]
  },
  {
   "cell_type": "markdown",
   "metadata": {},
   "source": [
    "Often the value returned by an operation will be used later on. Values can be stored for later use with the **assignment operator**:"
   ]
  },
  {
   "cell_type": "code",
   "execution_count": null,
   "metadata": {
    "collapsed": false
   },
   "outputs": [],
   "source": [
    "a = 101"
   ]
  },
  {
   "cell_type": "markdown",
   "metadata": {},
   "source": [
    "The command has stored the value 101 under the **name** <code>a</code>. Such stored values are called **objects**. \n",
    "\n",
    "Making an assignment to an object **defines** the object. \n",
    "\n",
    "Once an object has been defined, it can be referred to and used in later computations. \n",
    "\n",
    "To refer to the value stored in the object, just use the object’s name itself. For instance:"
   ]
  },
  {
   "cell_type": "code",
   "execution_count": null,
   "metadata": {
    "collapsed": false
   },
   "outputs": [],
   "source": [
    "b = np.sqrt(a)\n",
    "b"
   ]
  },
  {
   "cell_type": "markdown",
   "metadata": {},
   "source": [
    "There are some general rules for object names:\n",
    "\n",
    "+ Use only letters and numbers and ‘underscores’ (_)\n",
    "+ Do NOT use spaces anywhere in the name\n",
    "+ A number cannot be the first character in the name\n",
    "+ Capital letters are treated as distinct from lower-case letters (i.e., Python is case-sensitive)"
   ]
  },
  {
   "cell_type": "code",
   "execution_count": null,
   "metadata": {
    "collapsed": false
   },
   "outputs": [],
   "source": [
    "3a = 10"
   ]
  },
  {
   "cell_type": "markdown",
   "metadata": {},
   "source": [
    "When you assign a new value to an existing object (*dynamic typing*), the former values of that object is erased from the computer memory. The former value of b was 10.0498756211, but after a new assignment:"
   ]
  },
  {
   "cell_type": "code",
   "execution_count": null,
   "metadata": {
    "collapsed": false
   },
   "outputs": [],
   "source": [
    "b = 'a'\n",
    "print b"
   ]
  },
  {
   "cell_type": "markdown",
   "metadata": {},
   "source": [
    "The value of an object is changed only via the assignment operator. Using an object in a computation does not change the value. "
   ]
  },
  {
   "cell_type": "markdown",
   "metadata": {},
   "source": [
    "The brilliant thing about organizing operators in terms of input arguments and output values is that the output of one operator can be used as an input to another. This lets complicated computations be built out of simpler ones.\n",
    "\n",
    "One way to connect the computations is by using objects to store the intermediate outputs:"
   ]
  },
  {
   "cell_type": "code",
   "execution_count": null,
   "metadata": {
    "collapsed": false
   },
   "outputs": [],
   "source": [
    "a = np.arange(5)\n",
    "np.sqrt(a)"
   ]
  },
  {
   "cell_type": "markdown",
   "metadata": {},
   "source": [
    "You can also pass the output of an operator directly as an argument to another operator:"
   ]
  },
  {
   "cell_type": "code",
   "execution_count": null,
   "metadata": {
    "collapsed": false
   },
   "outputs": [],
   "source": [
    "np.sqrt(np.arange(5))"
   ]
  },
  {
   "cell_type": "markdown",
   "metadata": {},
   "source": [
    "### Data Types\n",
    "\n",
    "Most of the examples used so far have dealt with numbers. But computers work with other kinds of information as well: text, photographs, sounds, sets of data, and so on. The word *type* is used to refer to the kind of information. \n",
    "\n",
    "It’s important to know about the types of data because operators expect their input arguments to be of specific types. When you use the wrong type of input, the computer might not be able to process your command."
   ]
  },
  {
   "cell_type": "markdown",
   "metadata": {},
   "source": [
    "For our purposes, it’s important to distinguish among several basic types:\n",
    "\n",
    "+ Numeric (positive and negative) data: \n",
    "    + decimal and fractional numbers (**floats**), <code>a = 3.5</code>\n",
    "    + whole numbers (**integers**), <code> b = -12560</code>, and \n",
    "    + arbitrary length whole numbers (**longs**):  <code>c=1809109863596239561236235625629561L</code>\n",
    "+ **Strings** of textual data - you indicate string data to the computer by enclosing the text in quotation marks (e.g., <code>name = \"python\"</code>).\n",
    "+ **Boolean** data: <code>a = True</code> or <code>a = False</code>.\n",
    "+ **Complex** numbers: <code>a = 2+3j</code>\n",
    "+ Sequence types: **tuples, lists, sets, dictionaries** and **files**."
   ]
  },
  {
   "cell_type": "code",
   "execution_count": null,
   "metadata": {
    "collapsed": false
   },
   "outputs": [],
   "source": [
    "a = 10"
   ]
  },
  {
   "cell_type": "code",
   "execution_count": null,
   "metadata": {
    "collapsed": false
   },
   "outputs": [],
   "source": [
    "a = 'a'\n",
    "print a"
   ]
  },
  {
   "cell_type": "markdown",
   "metadata": {},
   "source": [
    "### Operators\n",
    "\n",
    "+ Addition (also string, tuple and list concatenation) <code>a + b</code>\n",
    "+ Subtraction (also set difference): <code>a - b</code>\n",
    "+ Multiplication (also string, tuple and list replication): <code>a * b</code>\n",
    "+ Division: <code>a / b</code>\n",
    "+ Truncated integer division (rounded towards minus infinity): <code>a // b</code>\n",
    "+ Modulus or remainder: <code>a % b</code>\n",
    "+ Exponentiation: <code>a ** b</code>\n",
    "+ Assignment: <code>=</code>, <code>-=</code>, <code>+=</code>,<code>/=</code>,<code>*=</code>, <code>%=</code>, <code>//=</code>, <code>**=</code>\n",
    "+ Boolean comparisons: <code>==</code>, <code>!=</code>, <code><</code>,<code>></code>,<code><=</code>, <code>>=</code>\n",
    "+ Boolean operators: <code>and</code>, <code>or</code>, <code>not</code>\n",
    "+ Membership test operators: <code>in</code>, <code>not in</code>\n",
    "+ Object identity operators: <code>is</code>, <code>is not</code>\n",
    "+ Bitwise operators (or, xor, and, complement): <code>|</code>, <code>^</code>, <code>&</code>, <code>~</code>\n",
    "+ Left and right bit shift: <code><<</code>, <code>>></code>"
   ]
  },
  {
   "cell_type": "markdown",
   "metadata": {},
   "source": [
    "### Python as a calculator\n",
    "\n",
    "The Python language has a concise notation for arithmetic that looks very much like the traditional one."
   ]
  },
  {
   "cell_type": "code",
   "execution_count": null,
   "metadata": {
    "collapsed": false
   },
   "outputs": [],
   "source": [
    "a = 3+2\n",
    "b= 3.5 * -8\n",
    "c = 10/6\n",
    "print a, b, c, 10./6."
   ]
  },
  {
   "cell_type": "markdown",
   "metadata": {},
   "source": [
    "Some math functions are not available in the basic Python module, and they need to be imported from a specific module:"
   ]
  },
  {
   "cell_type": "code",
   "execution_count": null,
   "metadata": {
    "collapsed": false
   },
   "outputs": [],
   "source": [
    "import math   # this instruction is not executed if the module has already been imported\n",
    "print math.pi + math.sin(100) + math.ceil(2.3)"
   ]
  },
  {
   "cell_type": "markdown",
   "metadata": {},
   "source": [
    "### A program in Python\n",
    "\n",
    "General Rules:\n",
    "\n",
    "+ All text from a <code>#</code> simbol to the end of a line are considered as comments.\n",
    "+ Code must be **indented** and sometimes delineated by colons. The Python standard for indentation is four spaces. Never use tabs: it can produce hard to find errors. Set you editor to convert tabs to spaces.\n",
    "+ Typically, a statement must be on a line. You can use a backslash <code>\\</code> at the end of a line to continue a statement on to the next line.\n"
   ]
  },
  {
   "cell_type": "code",
   "execution_count": null,
   "metadata": {
    "collapsed": false
   },
   "outputs": [],
   "source": [
    "# This program computes the factorial of 100.\n",
    "\n",
    "fact = 1L\n",
    "n= 100\n",
    "for factor in range(n,0,-1):\n",
    "    fact = fact * factor \n",
    "print fact    "
   ]
  },
  {
   "cell_type": "code",
   "execution_count": null,
   "metadata": {
    "collapsed": false
   },
   "outputs": [],
   "source": [
    "range(10,0,-1)"
   ]
  },
  {
   "cell_type": "markdown",
   "metadata": {},
   "source": [
    "When we write a colon at the end of an iteration, all lines indented at the next level are considered *part* of the iteration. \n",
    "\n",
    "When we write a line at the same indentation as the iteration, we are closing the iteration."
   ]
  },
  {
   "cell_type": "markdown",
   "metadata": {},
   "source": [
    "### A function in Python\n",
    "\n"
   ]
  },
  {
   "cell_type": "markdown",
   "metadata": {},
   "source": [
    "#### Factorial\n",
    "\n",
    "The factorial of a non-negative integer $n$, denoted by $n!$, is the product of all positive integers less than or equal to $n$.  "
   ]
  },
  {
   "cell_type": "code",
   "execution_count": null,
   "metadata": {
    "collapsed": false
   },
   "outputs": [],
   "source": [
    "def factorial(n):\n",
    "    \"\"\"\n",
    "    Return the factorial of n. \n",
    "    \"\"\"\n",
    "    fact = 1L\n",
    "    for factor in range(n,0,-1):\n",
    "        fact = fact * factor\n",
    "    return fact"
   ]
  },
  {
   "cell_type": "code",
   "execution_count": null,
   "metadata": {
    "collapsed": false
   },
   "outputs": [],
   "source": [
    "factorial(n)"
   ]
  },
  {
   "cell_type": "code",
   "execution_count": null,
   "metadata": {
    "collapsed": false
   },
   "outputs": [],
   "source": [
    "help(factorial)"
   ]
  },
  {
   "cell_type": "markdown",
   "metadata": {},
   "source": [
    "#### Fibonacci\n",
    "\n",
    "The Fibonacci Sequence is the series of numbers: 0, 1, 1, 2, 3, 5, 8, 13, 21, 34, ...\n",
    "\n",
    "The general rule to compute the sequence is very simple: The next number is found by adding up the two numbers before it."
   ]
  },
  {
   "cell_type": "code",
   "execution_count": null,
   "metadata": {
    "collapsed": false
   },
   "outputs": [],
   "source": [
    "def fib1(n):\n",
    "    \"\"\"\n",
    "    Return n-th member of the Fibonacci sequence. \n",
    "    It uses a recursive approach.\n",
    "    \"\"\"\n",
    "    if n==1:\n",
    "        return 1\n",
    "    if n==0:\n",
    "        return 0\n",
    "    return fib1(n-1) + fib1(n-2)\n",
    "\n",
    "fib1(20)\n",
    "\n",
    "# this function cannot compute fib(100)"
   ]
  },
  {
   "cell_type": "code",
   "execution_count": null,
   "metadata": {
    "collapsed": false
   },
   "outputs": [],
   "source": [
    "def fib2(n):\n",
    "    \"\"\"\n",
    "    Return n-th member of the Fibonacci sequence. \n",
    "    It uses a non-recursive approach.\n",
    "    \"\"\"\n",
    "    a, b = 0, 1\n",
    "    for i in range(1,n+1):\n",
    "        a, b = b, a + b\n",
    "    return a\n",
    "\n",
    "n = 1000\n",
    "if n<15:\n",
    "    print fib1(n)\n",
    "else: \n",
    "    print fib2(n)"
   ]
  },
  {
   "cell_type": "markdown",
   "metadata": {},
   "source": [
    "#### Greatest Common Divisor\n",
    "\n",
    "The greatest common divisor of two positive integers $a$ and $b$ is the largest divisor common to $a$ and $b$.  The Euclidean algorithm, or Euclid's algorithm, is an interative method for computing the greatest common divisor of two integers. \n",
    "\n",
    "+ If $a<b$, exchange $a$ and $b$.\n",
    "+ Divide $a$ by $b$ and get the remainder, $r$. If $r=0$, report $b$ as the GCD of $a$ and $b$.\n",
    "+ Replace $a$ by $b$ and replace $b$ by $r$. If $r \\neq 0$ iterate.\n",
    "\n"
   ]
  },
  {
   "cell_type": "code",
   "execution_count": null,
   "metadata": {
    "collapsed": false
   },
   "outputs": [],
   "source": [
    "def gcd(a,b): \n",
    "    \"\"\"\n",
    "    Euclides algorithm v1.0: pseudocode translation\n",
    "    \"\"\"\n",
    "    r = 1\n",
    "    while r != 0:\n",
    "        if a<b:\n",
    "            c=a\n",
    "            a=b\n",
    "            b=c\n",
    "        r = a%b \n",
    "        if r == 0:\n",
    "            return b\n",
    "        else:\n",
    "            a = b\n",
    "            b = r\n",
    "\n",
    "gcd(100,16)"
   ]
  },
  {
   "cell_type": "code",
   "execution_count": null,
   "metadata": {
    "collapsed": false
   },
   "outputs": [],
   "source": [
    "def gcd(a,b):  \n",
    "    \"\"\"\n",
    "    Euclides algorithm v2.0: idiomatic Python    \n",
    "    \"\"\"\n",
    "    while a:\n",
    "        a, b = b%a, a\n",
    "    return b\n",
    "\n",
    "gcd(100,16)"
   ]
  },
  {
   "cell_type": "code",
   "execution_count": null,
   "metadata": {
    "collapsed": false
   },
   "outputs": [],
   "source": [
    "a = 67\n",
    "a == False"
   ]
  },
  {
   "cell_type": "markdown",
   "metadata": {},
   "source": [
    "#### Exercise\n",
    "\n",
    "Compute an approximation $\\pi$ using Monte Carlo. \n",
    "\n",
    "How?  If we can estimate the area of the unit circle, then dividing by $r^2 = (1/2)^2 = 1/4$\n",
    "gives an estimate of $\\pi$. We may estimate the area by sampling bivariate uniforms and looking at the fraction that fall into the unit circle.\n"
   ]
  },
  {
   "cell_type": "code",
   "execution_count": null,
   "metadata": {
    "collapsed": true
   },
   "outputs": [],
   "source": [
    "from math import sqrt\n",
    "import random\n",
    "## Your solution here.\n",
    "\n"
   ]
  },
  {
   "cell_type": "markdown",
   "metadata": {},
   "source": [
    "### String processing with Python\n",
    "\n",
    "Strings are list of characters:"
   ]
  },
  {
   "cell_type": "code",
   "execution_count": null,
   "metadata": {
    "collapsed": false
   },
   "outputs": [],
   "source": [
    "a = \"python\"\n",
    "type(a)"
   ]
  },
  {
   "cell_type": "code",
   "execution_count": null,
   "metadata": {
    "collapsed": false
   },
   "outputs": [],
   "source": [
    "print \"Hello\""
   ]
  },
  {
   "cell_type": "code",
   "execution_count": null,
   "metadata": {
    "collapsed": false
   },
   "outputs": [],
   "source": [
    "print \"This is 'an example' of the use of quotes and double quotes\"\n",
    "print 'This is \"another example\" of the use of quotes and double quotes'"
   ]
  },
  {
   "cell_type": "markdown",
   "metadata": {},
   "source": [
    "We can use the operator ``+`` to concatenate strings:"
   ]
  },
  {
   "cell_type": "code",
   "execution_count": null,
   "metadata": {
    "collapsed": false
   },
   "outputs": [],
   "source": [
    "a = 'He'\n",
    "b = 'llo'\n",
    "c = a+b+'!'\n",
    "print c"
   ]
  },
  {
   "cell_type": "markdown",
   "metadata": {},
   "source": [
    "Substrings within a string can be accessed using **slicing**. Slicing uses ``[]`` to contain the indices of the characters in a string, where the first index is $0$, and the last is $n - 1$ (assuming the string has $n$ characters). "
   ]
  },
  {
   "cell_type": "code",
   "execution_count": null,
   "metadata": {
    "collapsed": false
   },
   "outputs": [],
   "source": [
    "a = 'Python'\n",
    "print a[:], a[1], a[2:], a[:3], a[2:4], a[::2], a[1::2]"
   ]
  },
  {
   "cell_type": "markdown",
   "metadata": {},
   "source": [
    "The most advanced string functiona are stored in an external module called ``string``"
   ]
  },
  {
   "cell_type": "code",
   "execution_count": null,
   "metadata": {
    "collapsed": false
   },
   "outputs": [],
   "source": [
    "import string as st\n",
    "help(st)"
   ]
  },
  {
   "cell_type": "code",
   "execution_count": null,
   "metadata": {
    "collapsed": false
   },
   "outputs": [],
   "source": [
    "type(st.atof('10.3'))"
   ]
  },
  {
   "cell_type": "code",
   "execution_count": null,
   "metadata": {
    "collapsed": false
   },
   "outputs": [],
   "source": [
    "a = 'a'"
   ]
  },
  {
   "cell_type": "code",
   "execution_count": null,
   "metadata": {
    "collapsed": false
   },
   "outputs": [],
   "source": [
    "# press tab\n",
    "a."
   ]
  },
  {
   "cell_type": "code",
   "execution_count": null,
   "metadata": {
    "collapsed": false
   },
   "outputs": [],
   "source": [
    "a='Hello'\n",
    "b = a.lower()\n",
    "print b"
   ]
  },
  {
   "cell_type": "code",
   "execution_count": null,
   "metadata": {
    "collapsed": false
   },
   "outputs": [],
   "source": [
    "print st.ascii_letters\n",
    "'a' in st.ascii_letters"
   ]
  },
  {
   "cell_type": "markdown",
   "metadata": {},
   "source": [
    "The ``.format()`` method of the str type is an extremely convenient way to format text exactly the way you want it."
   ]
  },
  {
   "cell_type": "code",
   "execution_count": null,
   "metadata": {
    "collapsed": false
   },
   "outputs": [],
   "source": [
    "print \"We have {} hectares planted to {}.\".format(49, \"okra\")"
   ]
  },
  {
   "cell_type": "code",
   "execution_count": null,
   "metadata": {
    "collapsed": false
   },
   "outputs": [],
   "source": [
    "print \"We have {0} hectares planted to {1}.\".format(49, \"okra\")"
   ]
  },
  {
   "cell_type": "code",
   "execution_count": null,
   "metadata": {
    "collapsed": false
   },
   "outputs": [],
   "source": [
    "print \"We have {1} {1} {1} hectares planted to {0}.\".format(49, \"okra\")"
   ]
  },
  {
   "cell_type": "code",
   "execution_count": null,
   "metadata": {
    "collapsed": false
   },
   "outputs": [],
   "source": [
    "print \"{monster} has now eaten {city}\".format(city='Tokyo', monster='Mothra')"
   ]
  },
  {
   "cell_type": "code",
   "execution_count": null,
   "metadata": {
    "collapsed": false
   },
   "outputs": [],
   "source": [
    "print \"Res: {} Km\".format(1342.893663456)"
   ]
  },
  {
   "cell_type": "markdown",
   "metadata": {},
   "source": [
    "By default values are formatted to take up only as many characters as needed to represent the content. It is however also possible to define that a value should be padded to a specific length."
   ]
  },
  {
   "cell_type": "code",
   "execution_count": null,
   "metadata": {
    "collapsed": false
   },
   "outputs": [],
   "source": [
    "print \"Res: {:10.4f} Km\".format(1342.893663456)\n",
    "print \"Res: {:10.4f} Km\".format(42.8)\n",
    "print \"Res: {:10.4f} Km\".format(134.89)"
   ]
  },
  {
   "cell_type": "markdown",
   "metadata": {},
   "source": [
    "``10.4`` means a width of 10 characters and a precision of 4 decimal places."
   ]
  },
  {
   "cell_type": "code",
   "execution_count": null,
   "metadata": {
    "collapsed": false
   },
   "outputs": [],
   "source": [
    "l = (1342.893663456, 25, 5)\n",
    "print \"Res: {0:9.4f} Km\".format(*l)\n",
    "print \"Res: {1:9.4f} Km\".format(*l)\n",
    "print \"Res: {2:9.4f} Km\".format(*l)"
   ]
  },
  {
   "cell_type": "markdown",
   "metadata": {},
   "source": [
    "### Lists\n",
    "\n",
    "Lists are a built-in data type which require other data types to be useful. A list is a collection of other objects – floats, integers, complex numbers, strings or even other lists.\n",
    "\n",
    "Lists also support slicing to retrieve one or more elements. Basic lists are constructed using square braces, ``[]``, and values are separated using\n",
    "commas."
   ]
  },
  {
   "cell_type": "code",
   "execution_count": null,
   "metadata": {
    "collapsed": false
   },
   "outputs": [],
   "source": [
    "l=[]\n",
    "type(l)"
   ]
  },
  {
   "cell_type": "code",
   "execution_count": null,
   "metadata": {
    "collapsed": false
   },
   "outputs": [],
   "source": [
    "x=[1,2,3,4,[1,2,3,4],'jordi']\n",
    "print x[4:], x[0], x[5], x[:4]"
   ]
  },
  {
   "cell_type": "code",
   "execution_count": null,
   "metadata": {
    "collapsed": false
   },
   "outputs": [],
   "source": [
    "x[-2:]  # The stride can also be negative which can be used to select the\n",
    "        # elements of a list in reverse order."
   ]
  },
  {
   "cell_type": "markdown",
   "metadata": {},
   "source": [
    "Lists can be multidimensional and slicing can be done directly in higher dimensions:"
   ]
  },
  {
   "cell_type": "code",
   "execution_count": null,
   "metadata": {
    "collapsed": false
   },
   "outputs": [],
   "source": [
    "x = [[1,2,3,4], [5,6,7,8]]\n",
    "print x[0], x[0][0]"
   ]
  },
  {
   "cell_type": "markdown",
   "metadata": {},
   "source": [
    "### Help: Python Tutorial"
   ]
  },
  {
   "cell_type": "code",
   "execution_count": null,
   "metadata": {
    "collapsed": false
   },
   "outputs": [],
   "source": [
    "from IPython.display import HTML\n",
    "HTML('<iframe src=http://docs.python.org/3/tutorial/index.html?useformat=mobile width=780 height=350></iframe>')"
   ]
  },
  {
   "cell_type": "markdown",
   "metadata": {},
   "source": [
    "### Conditionals\n",
    "\n",
    "The conditional structure in Python is <code>if</code>. It is usally combined with \n",
    "relational operators: <code> <, <=, ==, >=, >, != </code>."
   ]
  },
  {
   "cell_type": "code",
   "execution_count": null,
   "metadata": {
    "collapsed": false
   },
   "outputs": [],
   "source": [
    "def main(celsius):\n",
    "    fahrenheit = 9.0 /5.0 * celsius + 32\n",
    "    print \"The temperature in Fahrenheit is\", fahrenheit\n",
    "    if fahrenheit > 90:\n",
    "        print \"It's really hot out there.\"\n",
    "    elif fahrenheit < 30:\n",
    "        print \"It's really cold out there.\"\n",
    "    else: pass\n",
    "        \n",
    "main(35)"
   ]
  },
  {
   "cell_type": "markdown",
   "metadata": {},
   "source": [
    "``If`` statesments can be combined with loops (``for``, ``while``):"
   ]
  },
  {
   "cell_type": "code",
   "execution_count": null,
   "metadata": {
    "collapsed": false
   },
   "outputs": [],
   "source": [
    "numbers = [-5, 3,2,-1,9,6]\n",
    "total = 0\n",
    "for n in numbers:\n",
    "    if n >= 0:\n",
    "        total += n\n",
    "print total"
   ]
  },
  {
   "cell_type": "code",
   "execution_count": null,
   "metadata": {
    "collapsed": false
   },
   "outputs": [],
   "source": [
    "def average(a):\n",
    "    sum = 0.0\n",
    "    for i in a:\n",
    "        sum = sum + i\n",
    "    return sum/len(a)\n",
    "\n",
    "average([1,2,3,4])"
   ]
  },
  {
   "cell_type": "code",
   "execution_count": null,
   "metadata": {
    "collapsed": false
   },
   "outputs": [],
   "source": [
    "def sumdif(x,y):\n",
    "    sum, dif = x+y, x-y\n",
    "    return sum, dif\n",
    "\n",
    "a, b = sumdif(2,2)\n",
    "print a, b"
   ]
  },
  {
   "cell_type": "code",
   "execution_count": null,
   "metadata": {
    "collapsed": false
   },
   "outputs": [],
   "source": [
    "def main(n):\n",
    "    cont = 0\n",
    "    while (int(n) > 0):\n",
    "        cont += 1\n",
    "        n = n/2\n",
    "#        print n\n",
    "    return cont-1\n",
    "\n",
    "main(10)\n",
    "# main(10.3)"
   ]
  },
  {
   "cell_type": "markdown",
   "metadata": {},
   "source": [
    "### Boolean operators."
   ]
  },
  {
   "cell_type": "code",
   "execution_count": null,
   "metadata": {
    "collapsed": false
   },
   "outputs": [],
   "source": [
    "a = 4\n",
    "b = 40\n",
    "(a>2) and (b>30)"
   ]
  },
  {
   "cell_type": "code",
   "execution_count": null,
   "metadata": {
    "collapsed": false
   },
   "outputs": [],
   "source": [
    "(a>2) or (b>100)"
   ]
  },
  {
   "cell_type": "code",
   "execution_count": null,
   "metadata": {
    "collapsed": false
   },
   "outputs": [],
   "source": [
    "not(a>2)"
   ]
  },
  {
   "cell_type": "markdown",
   "metadata": {},
   "source": [
    "### Data Collections\n",
    "\n",
    "We need to represent data collections: words in a text, students in a course, experimental data, etc., or to store intermediate results. The most simple data collection is the <code>list</code> (an ordered sequence of objects):"
   ]
  },
  {
   "cell_type": "code",
   "execution_count": null,
   "metadata": {
    "collapsed": false
   },
   "outputs": [],
   "source": [
    "range(10)"
   ]
  },
  {
   "cell_type": "code",
   "execution_count": null,
   "metadata": {
    "collapsed": false
   },
   "outputs": [],
   "source": [
    "import string\n",
    "b = string.split(\"This is an example\")\n",
    "print b"
   ]
  },
  {
   "cell_type": "markdown",
   "metadata": {},
   "source": [
    "Lists are *mutable, dynamic and non-homogeneous* objects:"
   ]
  },
  {
   "cell_type": "code",
   "execution_count": null,
   "metadata": {
    "collapsed": false
   },
   "outputs": [],
   "source": [
    "a = [1,2,3,4]\n",
    "a[1] = 1\n",
    "print a"
   ]
  },
  {
   "cell_type": "code",
   "execution_count": null,
   "metadata": {
    "collapsed": false
   },
   "outputs": [],
   "source": [
    "c = a + b\n",
    "print c"
   ]
  },
  {
   "cell_type": "code",
   "execution_count": null,
   "metadata": {
    "collapsed": false
   },
   "outputs": [],
   "source": [
    "zeroes = [0] * 10\n",
    "del zeroes[5:]\n",
    "print zeroes"
   ]
  },
  {
   "cell_type": "code",
   "execution_count": null,
   "metadata": {
    "collapsed": false
   },
   "outputs": [],
   "source": [
    "zeroes.append(1)\n",
    "print zeroes"
   ]
  },
  {
   "cell_type": "code",
   "execution_count": null,
   "metadata": {
    "collapsed": false
   },
   "outputs": [],
   "source": [
    "zeroes.remove(1)\n",
    "print zeroes"
   ]
  },
  {
   "cell_type": "code",
   "execution_count": null,
   "metadata": {
    "collapsed": false
   },
   "outputs": [],
   "source": [
    "if 1 in zeroes:\n",
    "    print False\n",
    "else: \n",
    "    print True"
   ]
  },
  {
   "cell_type": "markdown",
   "metadata": {},
   "source": [
    "#### References\n",
    "\n",
    "We can inspect the reference of an object:"
   ]
  },
  {
   "cell_type": "code",
   "execution_count": null,
   "metadata": {
    "collapsed": false
   },
   "outputs": [],
   "source": [
    "a ='hello'\n",
    "print id(a)"
   ]
  },
  {
   "cell_type": "markdown",
   "metadata": {},
   "source": [
    "Two different objects:"
   ]
  },
  {
   "cell_type": "code",
   "execution_count": null,
   "metadata": {
    "collapsed": false
   },
   "outputs": [],
   "source": [
    "a = [1,2,3]\n",
    "b = [1,2,3]\n",
    "print id(a), id(b)"
   ]
  },
  {
   "cell_type": "markdown",
   "metadata": {},
   "source": [
    "Object alias:"
   ]
  },
  {
   "cell_type": "code",
   "execution_count": null,
   "metadata": {
    "collapsed": false
   },
   "outputs": [],
   "source": [
    "a = [1,2,3]\n",
    "b = a                     # alias\n",
    "print id(a), id(b)"
   ]
  },
  {
   "cell_type": "markdown",
   "metadata": {},
   "source": [
    "Cloning:"
   ]
  },
  {
   "cell_type": "code",
   "execution_count": null,
   "metadata": {
    "collapsed": false
   },
   "outputs": [],
   "source": [
    "a = [1,2,3]\n",
    "b = a[:]                  # cloning with :\n",
    "\n",
    "print a, b, b[1:], id(a), id(b), id(b[1:])"
   ]
  },
  {
   "cell_type": "markdown",
   "metadata": {},
   "source": [
    "When a list is an argument of a function, we are sending the *reference*, not a *copy*"
   ]
  },
  {
   "cell_type": "code",
   "execution_count": null,
   "metadata": {
    "collapsed": false
   },
   "outputs": [],
   "source": [
    "def head(list):\n",
    "    return list[0]\n",
    "\n",
    "numbers=[1,2,3,4]\n",
    "print head(numbers), numbers"
   ]
  },
  {
   "cell_type": "code",
   "execution_count": null,
   "metadata": {
    "collapsed": false
   },
   "outputs": [],
   "source": [
    "def change_first_element(list):\n",
    "    list[0]=0\n",
    "    \n",
    "numbers=[1,2,3,4]\n",
    "change_first_element(numbers)\n",
    "print numbers"
   ]
  },
  {
   "cell_type": "markdown",
   "metadata": {},
   "source": [
    "If we return a list we are returning a reference:"
   ]
  },
  {
   "cell_type": "code",
   "execution_count": null,
   "metadata": {
    "collapsed": false
   },
   "outputs": [],
   "source": [
    "def tail(list):\n",
    "    return list[1:]     # we are creating a new list\n",
    "\n",
    "numbers=[1,2,3,4]\n",
    "rest = tail(numbers)\n",
    "print rest, numbers\n",
    "print id(rest), id(numbers)"
   ]
  },
  {
   "cell_type": "code",
   "execution_count": null,
   "metadata": {
    "collapsed": false
   },
   "outputs": [],
   "source": [
    "# Press tab\n",
    "numbers."
   ]
  },
  {
   "cell_type": "markdown",
   "metadata": {},
   "source": [
    "Sometimes it is important to perform a *sanity check* about what is doing a pre-defined function:"
   ]
  },
  {
   "cell_type": "code",
   "execution_count": null,
   "metadata": {
    "collapsed": false
   },
   "outputs": [],
   "source": [
    "numbers=[1,2,3,4]\n",
    "def test(l):\n",
    "    return l.reverse()\n",
    "\n",
    "test(numbers)\n",
    "print numbers, numbers.reverse(), numbers"
   ]
  },
  {
   "cell_type": "markdown",
   "metadata": {},
   "source": [
    "### Dictionaries\n",
    "\n",
    "A dictionary is a collection that allows the access of an *element* by using a *key*:"
   ]
  },
  {
   "cell_type": "code",
   "execution_count": null,
   "metadata": {
    "collapsed": false
   },
   "outputs": [],
   "source": [
    "dict = {\"d\": \"D\", \"b\":\"B\", \"c\":\"C\"}\n",
    "dict[\"d\"]"
   ]
  },
  {
   "cell_type": "markdown",
   "metadata": {},
   "source": [
    "Dictionaries are **mutable** and **unordered**:"
   ]
  },
  {
   "cell_type": "code",
   "execution_count": null,
   "metadata": {
    "collapsed": false
   },
   "outputs": [],
   "source": [
    "dict[\"a\"]=\"A\"\n",
    "dict"
   ]
  },
  {
   "cell_type": "code",
   "execution_count": null,
   "metadata": {
    "collapsed": false
   },
   "outputs": [],
   "source": [
    "dict.has_key(\"a\")"
   ]
  },
  {
   "cell_type": "code",
   "execution_count": null,
   "metadata": {
    "collapsed": false
   },
   "outputs": [],
   "source": [
    "del dict[\"a\"]\n",
    "print dict"
   ]
  },
  {
   "cell_type": "code",
   "execution_count": null,
   "metadata": {
    "collapsed": false
   },
   "outputs": [],
   "source": [
    "dict = {\"d\": \"D\", \"b\":\"B\", \"c\":\"C\"}\n",
    "dict.items()"
   ]
  },
  {
   "cell_type": "markdown",
   "metadata": {},
   "source": [
    "### Tuples\n",
    "\n",
    "Tuples are **non-mutable** lists:"
   ]
  },
  {
   "cell_type": "code",
   "execution_count": null,
   "metadata": {
    "collapsed": false
   },
   "outputs": [],
   "source": [
    "tup = ('a', 'b', 'c')\n",
    "print type(tup), tup[1:3]"
   ]
  },
  {
   "cell_type": "code",
   "execution_count": null,
   "metadata": {
    "collapsed": false
   },
   "outputs": [],
   "source": [
    "tup[0]='d'"
   ]
  },
  {
   "cell_type": "markdown",
   "metadata": {},
   "source": [
    "**Example**: How to compute the statistics of words in a document."
   ]
  },
  {
   "cell_type": "code",
   "execution_count": null,
   "metadata": {
    "collapsed": false
   },
   "outputs": [],
   "source": [
    "# We can read a file in a list of line strings or as a string\n",
    "# -*- coding: latin-1 -*-\n",
    "\n",
    "text = open(\"files/text.txt\",'r').readlines()\n",
    "for l in text:\n",
    "    print l[:-1]  # The last character is a 'new line'"
   ]
  },
  {
   "cell_type": "code",
   "execution_count": null,
   "metadata": {
    "collapsed": false
   },
   "outputs": [],
   "source": [
    "import string\n",
    "\n",
    "def compare((w1,c1),(w2,c2)):\n",
    "# A sorting funtion returns negative if x<y, zero if x==y, positive if x>y.\n",
    "    if c1 < c2:\n",
    "        return -1\n",
    "    elif c1 == c2:\n",
    "        return 0\n",
    "    else:\n",
    "        return 1\n",
    "    \n",
    "def main():\n",
    "    \n",
    "# We read the file in a string\n",
    "    text = open(\"files/text.txt\",'r').read()\n",
    "    text = string.lower(text)\n",
    "    for ch in '!\"#$%&/()=?¿^*`+¨[]{}-:;,.':\n",
    "        text = string.replace(text, ch, ' ')\n",
    "# We build a list with all words (blank separation)\n",
    "    words = string.split(text)\n",
    "\n",
    "# We use a dictionary for counting words\n",
    "    counts = {}\n",
    "    for w in words:\n",
    "        try:\n",
    "            counts[w] = counts[w] + 1\n",
    "        except KeyError:\n",
    "            counts[w] = 1\n",
    "            \n",
    "# We create a sorted list\n",
    "    items = counts.items()\n",
    "    items.sort(compare)\n",
    "    \n",
    "# We print the list\n",
    "    for i in range(len(items)):\n",
    "        print \"%-2s%3d\" % items[i],'|' ,\n",
    "\n",
    "main()    "
   ]
  },
  {
   "cell_type": "markdown",
   "metadata": {},
   "source": [
    "### Lists (and dictionary) comprehensions\n",
    "\n",
    "Lists comprehensions are a way to fit a ``for`` loop, an ``if`` statement, and an assignment all in one line.\n",
    "\n",
    "A list comprehension consists of the following parts:\n",
    "\n",
    "+ An input sequence.\n",
    "+ A variable representing members of the input sequence.\n",
    "+ An optional expression.\n",
    "+ An output expression producing elements of the output list from members of the input sequence that satisfy the predicate."
   ]
  },
  {
   "cell_type": "code",
   "execution_count": null,
   "metadata": {
    "collapsed": false
   },
   "outputs": [],
   "source": [
    "num = [1, 4, -5, 10, -7, 2, 3, -1]\n",
    "squared = [ x**2 for x in num if x > 0]\n",
    "print type(squared), squared"
   ]
  },
  {
   "cell_type": "markdown",
   "metadata": {},
   "source": [
    "<div class = \"alert alert-success\">  There is a downside to list comprehensions: the entire list has to be stored in memory at once. This isn’t a problem for small lists like the ones in the above examples, or even of lists several orders of magnitude larger. But we can use **<font color=\"red\">generators</font>** to solve this problem.</div>\n",
    "\n"
   ]
  },
  {
   "cell_type": "markdown",
   "metadata": {},
   "source": [
    "Generator expressions do not load the whole list into memory at once, but instead create a *generator object* so only one list element has to be loaded at any time.\n",
    "\n",
    "Generator expressions have the same syntax as list comprehensions, but with parentheses around the outside instead of brackets:"
   ]
  },
  {
   "cell_type": "code",
   "execution_count": null,
   "metadata": {
    "collapsed": false
   },
   "outputs": [],
   "source": [
    "num = [1, 4, -5, 10, -7, 2, 3, -1]\n",
    "squared = ( x**2 for x in num if x > 0 )\n",
    "print type(squared), squared"
   ]
  },
  {
   "cell_type": "markdown",
   "metadata": {},
   "source": [
    "The elements of the generator must be accessed by an iterator because they are generated when needed:"
   ]
  },
  {
   "cell_type": "code",
   "execution_count": null,
   "metadata": {
    "collapsed": false
   },
   "outputs": [],
   "source": [
    "lis = []\n",
    "for item in squared:\n",
    "    lis = lis + [item]\n",
    "print lis"
   ]
  },
  {
   "cell_type": "markdown",
   "metadata": {},
   "source": [
    "We can define our own generators with the ``yield`` statesment. For example, let's build a generator for the binary representation of a number between 0 and 1 with arbitrary precision."
   ]
  },
  {
   "cell_type": "code",
   "execution_count": null,
   "metadata": {
    "collapsed": false
   },
   "outputs": [],
   "source": [
    "# binary representation of a number between 0 and 1 (b bits precision).\n",
    "\n",
    "def res(n,b):\n",
    "    bin_a = '.'\n",
    "    for i in range(b):\n",
    "        n *= 2\n",
    "        bin_a +=  str(int(n))\n",
    "        n = n % 1\n",
    "    return bin_a\n",
    "\n",
    "print res(1/3.0,10)"
   ]
  },
  {
   "cell_type": "code",
   "execution_count": null,
   "metadata": {
    "collapsed": false
   },
   "outputs": [],
   "source": [
    "# binary representation of a number between 0 and 1 (precision as needed).\n",
    "\n",
    "def binRep(n):\n",
    "    while True:\n",
    "        n *= 2\n",
    "        yield int(n)\n",
    "        n = n % 1\n",
    "\n",
    "a = binRep(1/3.) \n",
    "a_bin = '.'\n",
    "for i in range(50):\n",
    "    a_bin +=  str(a.next())\n",
    "    \n",
    "print a_bin"
   ]
  },
  {
   "cell_type": "markdown",
   "metadata": {},
   "source": [
    "** Exercise **\n",
    "\n",
    "+ Write a function with two parameters <code>a</code> and <code>b</code>, to compute the final amount we get if we deposite 1000€ during <code>a</code> years in a bank account with an interest rate of <code>b</code> per cent.\n",
    "+ What is the result for ``a``=10, ``b``=10"
   ]
  },
  {
   "cell_type": "code",
   "execution_count": null,
   "metadata": {
    "collapsed": false
   },
   "outputs": [],
   "source": [
    "# Your solution here"
   ]
  },
  {
   "cell_type": "markdown",
   "metadata": {},
   "source": [
    "**Exercise**\n",
    "\n",
    "+ Write a function with one parameter <code>a</code>, to compute the minimum period we need to double the amount in an account with an interest rate of <code>a</code> per cent.\n",
    "+ What is the result for ``a``=3?"
   ]
  },
  {
   "cell_type": "code",
   "execution_count": null,
   "metadata": {
    "collapsed": false
   },
   "outputs": [],
   "source": [
    "# Your solution here"
   ]
  },
  {
   "cell_type": "markdown",
   "metadata": {},
   "source": [
    "** Exercise**\n",
    "\n",
    "> (...) In mathematics, the sieve of Eratosthenes, one of a number of prime number sieves, is a simple, ancient algorithm for finding all prime numbers up to any given limit. A prime number is a natural number which has exactly two distinct natural number divisors: 1 and itself. To find all the prime numbers less than or equal to a given integer $n$ by Eratosthenes' method.\n",
    "> (Source: *Wikipedia*)\n",
    "\n",
    "+ Write a program to implement the Eratostenes algorithm. First create a list of consecutive integers from 2 through $n$: (2, 3, 4, ..., n). Then,    \n",
    "    - Initially, let $p$ equal 2, the first prime number.\n",
    "    - Starting from $p$, enumerate its multiples by counting to $n$ in increments of $p$, and mark them in the list (these will be 2p, 3p, 4p, etc.; the $p$ itself should not be marked).\n",
    "    - Find the first number greater than $p$ in the list that is not marked. If there was no such number, stop. Otherwise, let $p$ now equal this new number (which is the next prime), and repeat from step 2.\n",
    "    - When the algorithm terminates, all the numbers in the list that are not marked are prime. (...)"
   ]
  },
  {
   "cell_type": "code",
   "execution_count": null,
   "metadata": {
    "collapsed": false
   },
   "outputs": [],
   "source": [
    "# Your solution here"
   ]
  },
  {
   "cell_type": "markdown",
   "metadata": {},
   "source": [
    "**Exercise:** \n",
    "\n",
    "+ Compute the set of bigrams of a string. (``'hola'->'ho'+'ol'+'la'``) "
   ]
  },
  {
   "cell_type": "code",
   "execution_count": null,
   "metadata": {
    "collapsed": false
   },
   "outputs": [],
   "source": [
    "# Your solution here"
   ]
  },
  {
   "cell_type": "markdown",
   "metadata": {},
   "source": [
    "**Exercise:** \n",
    "\n",
    "+ Compute the set of substrings of a string. "
   ]
  },
  {
   "cell_type": "code",
   "execution_count": null,
   "metadata": {
    "collapsed": false
   },
   "outputs": [],
   "source": [
    "# Your solution here"
   ]
  },
  {
   "cell_type": "markdown",
   "metadata": {},
   "source": [
    "**Exercise:** \n",
    "\n",
    "+ Take two lists, say for example these two:\n",
    "\n",
    "\t``a = [1, 1, 2, 3, 5, 8, 13, 21, 34, 55, 89]  b = [1, 2, 3, 4, 5, 6, 7, 8, 9, 10, 11, 12, 13]``\n",
    "    \n",
    "  and write a program that returns a list that contains only the elements that are common between the lists (without duplicates)."
   ]
  },
  {
   "cell_type": "code",
   "execution_count": null,
   "metadata": {
    "collapsed": true
   },
   "outputs": [],
   "source": [
    "# Your solution here"
   ]
  },
  {
   "cell_type": "markdown",
   "metadata": {},
   "source": [
    "### Objects\n",
    "\n",
    "You can define your own classes and objects."
   ]
  },
  {
   "cell_type": "code",
   "execution_count": null,
   "metadata": {
    "collapsed": false
   },
   "outputs": [],
   "source": [
    "#creating a class\n",
    "\n",
    "class Rectangle:\n",
    "    def __init__(self,x,y):\n",
    "        self.x = x\n",
    "        self.y = y\n",
    "    description = \"This shape has not been described yet\"\n",
    "    author = \"Nobody has claimed to make this shape yet\"\n",
    "    def area(self):\n",
    "        return self.x * self.y\n",
    "    def perimeter(self):\n",
    "        return 2 * self.x + 2 * self.y\n",
    "    def describe(self,text):\n",
    "        self.description = text\n",
    "    def authorName(self,text):\n",
    "        self.author = text\n",
    "    def scaleSize(self,scale):\n",
    "        self.x = self.x * scale\n",
    "        self.y = self.y * scale\n",
    "\n",
    "#creating objects\n",
    "a = Rectangle(100, 45)\n",
    "b = Rectangle(10,230)\n",
    "\n",
    "#describing the rectangles\n",
    "a.describe(\"A fat rectangle\")\n",
    "b.describe(\"A thin rectangle\")"
   ]
  },
  {
   "cell_type": "code",
   "execution_count": null,
   "metadata": {
    "collapsed": false
   },
   "outputs": [],
   "source": [
    "#finding the area of your rectangle:\n",
    "print a.area()\n",
    " \n",
    "#finding the perimeter of your rectangle:\n",
    "print a.perimeter()\n",
    "\n",
    "#getting the description\n",
    "print a.description\n",
    "print a.author"
   ]
  },
  {
   "cell_type": "code",
   "execution_count": null,
   "metadata": {
    "collapsed": false
   },
   "outputs": [],
   "source": [
    "#finding the area of your rectangle:\n",
    "print b.area()\n",
    "print b.description\n",
    "\n",
    "#making the rectangle 50% smaller\n",
    "b.scaleSize(0.5)\n",
    "b.describe(\"A small thin rectangle\")\n",
    " \n",
    "#re-printing the new area of the rectangle\n",
    "print b.area()\n",
    "print b.description"
   ]
  },
  {
   "cell_type": "markdown",
   "metadata": {},
   "source": [
    "### Exercise\n",
    "\n",
    "Build a simple class called ``Polynomia``l for representing and manipulating polynomial functions such as\n",
    "\n",
    "$$ p(x) = a_0 + a_1 x + \\dots + a_n x^n $$\n",
    "\n",
    "The instance data for the class ``Polynomial`` will be the coefficients ($a_1, \\dots, a_n$). Provide methods that:\n",
    "\n",
    "+ Evaluate the polynomial, returning $p(x)$ for any $x$\n",
    "+ Differentiate the polynomial, replacing the original coefficients with those of its derivative $p′$."
   ]
  },
  {
   "cell_type": "code",
   "execution_count": null,
   "metadata": {
    "collapsed": false
   },
   "outputs": [],
   "source": [
    "# Your solution\n",
    "\n",
    "class Polynomial(object):\n",
    "    #your code\n",
    "    pass\n",
    "        \n",
    "a = Polynomial([2,4])\n",
    "print a.eval(1)\n",
    "a.differentiate()\n",
    "print a.eval(1)"
   ]
  },
  {
   "cell_type": "markdown",
   "metadata": {},
   "source": [
    "## Reading Data\n",
    "\n",
    "The most convenient method that you can use to work with data is to load it directly into memory.\n",
    "\n",
    "When you load a file (of any type), the entire dataset is available at all times and the loading process is quite direct:"
   ]
  },
  {
   "cell_type": "code",
   "execution_count": null,
   "metadata": {
    "collapsed": false
   },
   "outputs": [],
   "source": [
    "with open(\"files/SeaIce.txt\", 'r') as input_file:\n",
    "    print 'File content', input_file.read()"
   ]
  },
  {
   "cell_type": "markdown",
   "metadata": {},
   "source": [
    "The entire dataset is loaded from the library into free memory. Of course, the loading process will fail if your system lacks sufficient memory to hold the dataset. When this problem occurs, you need to consider other techniques\n",
    "for working with the dataset, such as **streaming** it or **sampling** it.\n",
    "\n",
    "Here’s an example of how you can stream data using Python:"
   ]
  },
  {
   "cell_type": "code",
   "execution_count": null,
   "metadata": {
    "collapsed": false
   },
   "outputs": [],
   "source": [
    "with open(\"files/SeaIce.txt\", 'r') as input_file:\n",
    "    for observation in input_file:\n",
    "        print 'Reading Data: ' + observation,"
   ]
  },
  {
   "cell_type": "markdown",
   "metadata": {},
   "source": [
    "The ``input_file`` file object contains a pointer to the open file. As the code performs data reads in the for loop, the file pointer moves to the next record.\n",
    "\n",
    "Data streaming obtains all the records from a data source. You may find that\n",
    "you don’t need all the records. You can save time and resources by simply\n",
    "sampling the data. To this end we will use the ``enumerate`` function."
   ]
  },
  {
   "cell_type": "code",
   "execution_count": null,
   "metadata": {
    "collapsed": false
   },
   "outputs": [],
   "source": [
    "n = 17\n",
    "with open(\"files/SeaIce.txt\", 'r') as input_file:\n",
    "    for j, observation in enumerate(input_file):\n",
    "        if j % n==0:\n",
    "            print('Reading Line: ' + str(j) + ' Content: ' + observation), "
   ]
  },
  {
   "cell_type": "markdown",
   "metadata": {},
   "source": [
    "You can perform random sampling as well."
   ]
  },
  {
   "cell_type": "code",
   "execution_count": null,
   "metadata": {
    "collapsed": false
   },
   "outputs": [],
   "source": [
    "import random\n",
    "sample_size = 0.01\n",
    "with open(\"files/SeaIce.txt\", 'r') as input_file:\n",
    "    for j, observation in enumerate(input_file):\n",
    "        if random.random()<=sample_size:\n",
    "            print('Reading Line: ' + str(j) + ' Content: ' + observation), "
   ]
  },
  {
   "cell_type": "markdown",
   "metadata": {},
   "source": [
    "### Exercise\n",
    "\n",
    "Consider the polynomial\n",
    "\n",
    "$$ p(x) = a_0 + a_1 x + \\dots + a_n x^n $$\n",
    "\n",
    "Write a function ``p`` such that ``p(x, coeff)`` computes the value in the polynomial given a point ``x`` and a list of coefficients ``coeff``. Try to use ``enumerate()`` in your loop."
   ]
  },
  {
   "cell_type": "code",
   "execution_count": null,
   "metadata": {
    "collapsed": true
   },
   "outputs": [],
   "source": [
    "# Your solution"
   ]
  },
  {
   "cell_type": "markdown",
   "metadata": {},
   "source": [
    "### Reading from a CSV file\n",
    "\n",
    "A flat file presents the easiest kind of file to work with. \n",
    "\n",
    "A problem with using native Python techniques is that the input isn’t intelligent. For example, when a file contains a header, Python simply reads it as yet more data to process, rather than as a header (not a problem for Pandas!).\n",
    "\n",
    "The least formatted and therefore easiest‐to‐read flat‐file format is the text file. However, a text file also treats all data as strings, so you often have to convert numeric data into other forms.\n",
    "\n",
    "A comma‐separated value (CSV) file provides more formatting and more information, but it requires a little more effort to read.\n",
    "\n",
    "At the high end of flat‐file formatting are custom data formats, such as an Excel file, which contains extensive formatting and could include multiple datasets in a single file.\n",
    "\n",
    "A CSV file provides more formatting than a simple text file. In fact, CSV files can become quite complicated. There is a standard that defines the format of CSV files, and you can see it at https://tools.ietf.org/html/rfc4180.\n",
    "\n",
    "The ``csv`` module is useful for working with data exported from spreadsheets and databases into text files formatted with fields and records, commonly referred to as comma-separated value (CSV)."
   ]
  },
  {
   "cell_type": "code",
   "execution_count": null,
   "metadata": {
    "collapsed": false
   },
   "outputs": [],
   "source": [
    "import csv\n",
    "\n",
    "f = open(\"files/Advertising.csv\", 'r')\n",
    "try:\n",
    "    reader = csv.reader(f)\n",
    "    for row in reader:\n",
    "        print row\n",
    "finally:\n",
    "    f.close()"
   ]
  },
  {
   "cell_type": "code",
   "execution_count": null,
   "metadata": {
    "collapsed": false
   },
   "outputs": [],
   "source": [
    "with open(\"files/Advertising.csv\", 'r') as input_file:\n",
    "    reader = csv.reader(input_file)\n",
    "    for row in reader:\n",
    "        print row"
   ]
  },
  {
   "cell_type": "markdown",
   "metadata": {},
   "source": [
    "When you have data to be imported into some other application, writing ``csv`` files is just as easy as reading them. \n",
    "\n",
    "Use ``writer()`` to create an object for writing, then iterate over the rows, using ``writerow()`` to print them.  "
   ]
  },
  {
   "cell_type": "code",
   "execution_count": null,
   "metadata": {
    "collapsed": true
   },
   "outputs": [],
   "source": [
    "import csv\n",
    "\n",
    "ifile  = open(\"files/Advertising.csv\", 'r')\n",
    "reader = csv.reader(ifile)\n",
    "\n",
    "ofile  = open('test.csv', \"w\")\n",
    "writer = csv.writer(ofile, delimiter=',', lineterminator='\\n')\n",
    "\n",
    "for row in reader:\n",
    "    writer.writerow(row)\n",
    "\n",
    "ifile.close()\n",
    "ofile.close()"
   ]
  },
  {
   "cell_type": "markdown",
   "metadata": {},
   "source": [
    "A more ellegant way of reading a CSV file:\n",
    "+  Wrap the CSV reader in a function that returns a generator\n",
    "+  Use context managers ``with [callable] as [name]`` to ensure that the handle to the file is closed automatically.\n",
    "+  Use the ``csv.DictReader`` class when headers are present (otherwise just use ``csv.reader``)"
   ]
  },
  {
   "cell_type": "code",
   "execution_count": null,
   "metadata": {
    "collapsed": false
   },
   "outputs": [],
   "source": [
    "import csv\n",
    "\n",
    "ADV = 'files/Advertising.csv'\n",
    "\n",
    "def read_data(path):\n",
    "    with open(path, 'r') as data:\n",
    "        reader = csv.DictReader(data)\n",
    "        for row in reader:\n",
    "            yield row\n",
    "\n",
    "for idx, row in enumerate(read_data(ADV)):\n",
    "    if idx < 10: print row\n",
    "    else: break"
   ]
  },
  {
   "cell_type": "markdown",
   "metadata": {},
   "source": [
    "The file is not opened, read, or parsed until you need it. This is powerful because it means that even for much larger data sets you will have efficient, portable code. "
   ]
  },
  {
   "cell_type": "code",
   "execution_count": null,
   "metadata": {
    "collapsed": false
   },
   "outputs": [],
   "source": [
    "data = read_data(ADV)\n",
    "print data"
   ]
  },
  {
   "cell_type": "code",
   "execution_count": null,
   "metadata": {
    "collapsed": false
   },
   "outputs": [],
   "source": [
    "for c in read_data(ADV):\n",
    "    print c\n",
    "    break"
   ]
  },
  {
   "cell_type": "markdown",
   "metadata": {},
   "source": [
    "# Python goodies"
   ]
  },
  {
   "cell_type": "markdown",
   "metadata": {},
   "source": [
    "## Accessing documentation\n",
    "\n",
    "Every Python object contains the reference to a string, known as a ``doc string``, which in most cases will contain a concise\n",
    "summary of the object and how to use it."
   ]
  },
  {
   "cell_type": "code",
   "execution_count": null,
   "metadata": {
    "collapsed": false
   },
   "outputs": [],
   "source": [
    "help(sum)"
   ]
  },
  {
   "cell_type": "code",
   "execution_count": null,
   "metadata": {
    "collapsed": false
   },
   "outputs": [],
   "source": [
    "L = []\n",
    "help(L)"
   ]
  },
  {
   "cell_type": "markdown",
   "metadata": {},
   "source": [
    "## Progress Bar"
   ]
  },
  {
   "cell_type": "code",
   "execution_count": null,
   "metadata": {
    "collapsed": false
   },
   "outputs": [],
   "source": [
    "!pip install tqdm "
   ]
  },
  {
   "cell_type": "code",
   "execution_count": null,
   "metadata": {
    "collapsed": false
   },
   "outputs": [],
   "source": [
    "import tqdm\n",
    "from time import sleep\n",
    "text = \"\"\n",
    "for char in tqdm.tqdm(range(1000)):\n",
    "    sleep(0.01)"
   ]
  },
  {
   "cell_type": "markdown",
   "metadata": {},
   "source": [
    "## Decorators\n",
    "\n",
    "Everything in Python is an object that can be treated like a value (e.g. functions, classes, modules). You can pass them as arguments to functions, and return them from functions:"
   ]
  },
  {
   "cell_type": "code",
   "execution_count": null,
   "metadata": {
    "collapsed": false
   },
   "outputs": [],
   "source": [
    "def is_even(value):\n",
    "    \"\"\"Return True if *value* is even.\"\"\"\n",
    "    return (value % 2) == 0\n",
    "\n",
    "def count_occurrences(target_list, predicate):\n",
    "    \"\"\"Return the number of times applying the function *predicate* to a\n",
    "    list element returns True.\"\"\"\n",
    "    return sum([1 for e in target_list if predicate(e)])\n",
    "\n",
    "#my_predicate = is_even\n",
    "#my_list = [2, 4, 6, 7, 9, 11]\n",
    "#result = count_occurrences(my_list, my_predicate)\n",
    "\n",
    "result = count_occurrences([2, 4, 6, 7, 9, 11], is_even)\n",
    "print(result)"
   ]
  },
  {
   "cell_type": "markdown",
   "metadata": {},
   "source": [
    "The magic is in the lines ``my_predicate = is_even``. We bound the name ``my_predicate`` to the function itself (not the value returned when calling it) and can use it like any \"normal\" variable.\n",
    "\n",
    "Functions can also be returned from functions as the return value:"
   ]
  },
  {
   "cell_type": "code",
   "execution_count": null,
   "metadata": {
    "collapsed": false
   },
   "outputs": [],
   "source": [
    "def surround_with(surrounding):\n",
    "    \"\"\"Return a function that takes a single argument and.\"\"\"\n",
    "    def surround_with_value(word):\n",
    "        return '{}{}{}'.format(surrounding, word, surrounding)\n",
    "    return surround_with_value\n",
    "\n",
    "def transform_words(content, targets, transform):\n",
    "    \"\"\"Return a string based on *content* but with each occurrence \n",
    "    of words in *targets* replaced with\n",
    "    the result of applying *transform* to it.\"\"\"\n",
    "    result = ''\n",
    "    for word in content.split():\n",
    "        if word in targets:\n",
    "            result += ' {}'.format(transform(word))\n",
    "        else:\n",
    "            result += ' {}'.format(word)\n",
    "    return result\n",
    "\n",
    "markdown_string = 'My name is Jeff Knupp and I like Python but I do not own a Python'\n",
    "markdown_string_italicized = transform_words(markdown_string, ['Python', 'Jeff'], surround_with('*'))\n",
    "print(markdown_string_italicized)"
   ]
  },
  {
   "cell_type": "markdown",
   "metadata": {},
   "source": [
    "We've now seen that functions can both be sent as arguments to a function and returned as the result of a function. What if we made use of both of those facts together? Can we create a function that takes a function as a parameter and returns a function as the result. Would that be useful?\n",
    "\n"
   ]
  },
  {
   "cell_type": "code",
   "execution_count": null,
   "metadata": {
    "collapsed": false
   },
   "outputs": [],
   "source": [
    "def fib(n):\n",
    "    if n == 0:\n",
    "        return 0\n",
    "    elif n == 1:\n",
    "        return 1\n",
    "    else:\n",
    "        return fib(n-1) + fib(n-2)\n",
    "\n",
    "%timeit fib(20)"
   ]
  },
  {
   "cell_type": "code",
   "execution_count": null,
   "metadata": {
    "collapsed": false
   },
   "outputs": [],
   "source": [
    "def memoize(f):\n",
    "    memo = {}\n",
    "    def helper(x):\n",
    "        if x not in memo:            \n",
    "            memo[x] = f(x)\n",
    "        return memo[x]\n",
    "    return helper\n",
    "    \n",
    "@memoize\n",
    "def fib(n):\n",
    "    if n == 0:\n",
    "        return 0\n",
    "    elif n == 1:\n",
    "        return 1\n",
    "    else:\n",
    "        return fib(n-1) + fib(n-2)\n",
    "\n",
    "%timeit fib(20)"
   ]
  },
  {
   "cell_type": "markdown",
   "metadata": {},
   "source": [
    "## Lambda, filter, reduce and map\n",
    "\n",
    "The ``lambda`` operator or lambda function is a way to create small anonymous functions, i.e. functions without a name. These functions are throw-away functions, i.e. they are just needed where they have been created. Lambda functions are mainly used in combination with the functions ``filter(), map()`` and ``reduce()``. "
   ]
  },
  {
   "cell_type": "code",
   "execution_count": null,
   "metadata": {
    "collapsed": false
   },
   "outputs": [],
   "source": [
    "f = lambda x, y : x + y\n",
    "f(1,1)"
   ]
  },
  {
   "cell_type": "markdown",
   "metadata": {},
   "source": [
    "The advantage of the lambda operator can be seen when it is used in combination with the ``map()`` function. \n",
    "``map()`` is a function with two arguments:\n",
    "\n",
    "``r = map(f, seq)``\n",
    "\n",
    "``map()`` applies the function ``func`` to all the elements of the sequence ``seq``. \n",
    "\n",
    "It returns a new list with the elements changed by ``func``."
   ]
  },
  {
   "cell_type": "code",
   "execution_count": null,
   "metadata": {
    "collapsed": false
   },
   "outputs": [],
   "source": [
    "def fahrenheit(T):\n",
    "    return ((float(9)/5)*T + 32)\n",
    "def celsius(T):\n",
    "    return (float(5)/9)*(T-32)\n",
    "temp = (36.5, 37, 37.5,39)\n",
    "\n",
    "F = map(fahrenheit, temp)\n",
    "C = map(celsius, F)\n",
    "print F\n",
    "print C"
   ]
  },
  {
   "cell_type": "markdown",
   "metadata": {},
   "source": [
    "By using lambda, we wouldn't have had to define and name the functions ``fahrenheit()`` and ``celsius()``:"
   ]
  },
  {
   "cell_type": "code",
   "execution_count": null,
   "metadata": {
    "collapsed": false
   },
   "outputs": [],
   "source": [
    "Celsius = [39.2, 36.5, 37.3, 37.8]\n",
    "Fahrenheit = map(lambda x: (float(9)/5)*x + 32, Celsius)\n",
    "print Fahrenheit\n",
    "C = map(lambda x: (float(5)/9)*(x-32), Fahrenheit)\n",
    "print C"
   ]
  },
  {
   "cell_type": "markdown",
   "metadata": {},
   "source": [
    "The function ``filter(function, list)`` offers an elegant way to filter out all the elements of a list, for which the function function returns ``True``.\n",
    "\n",
    "The function ``filter(f,l``) needs a function ``f`` as its first argument. ``f`` returns a Boolean value, i.e. either ``True`` or ``False``. This function will be applied to every element of the list ``l``. Only if ``f`` returns ``True`` will the element of the list be included in the result list."
   ]
  },
  {
   "cell_type": "code",
   "execution_count": null,
   "metadata": {
    "collapsed": false
   },
   "outputs": [],
   "source": [
    "fib = [0,1,1,2,3,5,8,13,21,34,55]\n",
    "result = filter(lambda x: x % 2, fib)\n",
    "print result\n",
    "result = filter(lambda x: x % 2 == 0, fib)\n",
    "print result"
   ]
  },
  {
   "cell_type": "markdown",
   "metadata": {},
   "source": [
    "The function ``reduce(func, seq)`` continually applies the function ``func()`` to the sequence ``seq``. It returns a single value. \n",
    "\n",
    "If ``seq = [ s1, s2, s3, ... , sn ]``, calling ``reduce(func, seq)`` works like this:\n",
    "+ At first the first two elements of ``seq`` will be applied to ``func``, i.e. ``func(s1,s2)`` The list on which ``reduce()`` works looks now like this: ``[ func(s1, s2), s3, ... , sn ]``\n",
    "+ In the next step func will be applied on the previous result and the third element of the list, i.e. ``func(func(s1, s2),s3)``\n",
    "The list looks like this now: ``[ func(func(s1, s2),s3), ... , sn ]``\n",
    "+ Continue like this until just one element is left and return this element as the result of ``reduce()``."
   ]
  },
  {
   "cell_type": "code",
   "execution_count": null,
   "metadata": {
    "collapsed": false
   },
   "outputs": [],
   "source": [
    "reduce(lambda x,y: x+y, [47,11,42,13])"
   ]
  },
  {
   "cell_type": "markdown",
   "metadata": {},
   "source": [
    "### Exercise\n",
    "\n",
    "1. Determine the maximum of a list of numerical values by using ``reduce``.\n",
    "2. Calculate the sum of the numbers from 1 to 100 by using ``reduce``."
   ]
  },
  {
   "cell_type": "code",
   "execution_count": null,
   "metadata": {
    "collapsed": true
   },
   "outputs": [],
   "source": [
    "# Your solution here"
   ]
  },
  {
   "cell_type": "markdown",
   "metadata": {},
   "source": [
    "## Serialization\n",
    "\n",
    "The standard serialization package in Python is  ``pickle``.  ``pickle``module implements an algorithm for turning an arbitrary Python object into a series of bytes. This process is also called **serializing** the object. \n",
    "\n",
    "The byte stream representing the object can then be transmitted or stored, and later reconstructed to create a new object with the same characteristics."
   ]
  },
  {
   "cell_type": "code",
   "execution_count": null,
   "metadata": {
    "collapsed": false
   },
   "outputs": [],
   "source": [
    "import pickle\n",
    "pickle.dumps({'The White House': \"1600 Pennsylvania Avenue NW, Washington, DC 20500\"})"
   ]
  },
  {
   "cell_type": "code",
   "execution_count": null,
   "metadata": {
    "collapsed": false
   },
   "outputs": [],
   "source": [
    "pickle.loads(\"(dp0\\nS'The White House'\\np1\\nS'1600 Pennsylvania Avenue NW, Washington, DC 20500'\\np2\\ns.\")"
   ]
  },
  {
   "cell_type": "code",
   "execution_count": null,
   "metadata": {
    "collapsed": false
   },
   "outputs": [],
   "source": [
    "favorite_color = { \"lion\": \"yellow\", \"kitty\": \"red\" }\n",
    "myfile = open( \"save.pkl\", \"wb\" )\n",
    "pickle.dump(favorite_color, myfile)\n",
    "myfile.close()"
   ]
  },
  {
   "cell_type": "code",
   "execution_count": null,
   "metadata": {
    "collapsed": false
   },
   "outputs": [],
   "source": [
    "myfile = open( \"save.pkl\", \"rb\" )\n",
    "favorite_color = pickle.load( myfile )\n",
    "myfile.close()\n",
    "favorite_color"
   ]
  },
  {
   "cell_type": "markdown",
   "metadata": {},
   "source": [
    "## Timing Code and other magic commands"
   ]
  },
  {
   "cell_type": "code",
   "execution_count": null,
   "metadata": {
    "collapsed": false
   },
   "outputs": [],
   "source": [
    "%reset"
   ]
  },
  {
   "cell_type": "code",
   "execution_count": null,
   "metadata": {
    "collapsed": false
   },
   "outputs": [],
   "source": [
    "import numpy as np\n",
    "\n",
    "def p1(x, coef):\n",
    "    return sum(a * x**i for i, a in enumerate(coef))\n",
    "\n",
    "def p2(x, coef):\n",
    "    X = np.empty(len(coef))\n",
    "    X[0] = 1\n",
    "    X[1:] = x\n",
    "    y = np.cumprod(X)   # y = [1, x, x**2,...]\n",
    "    return np.dot(coef, y)"
   ]
  },
  {
   "cell_type": "code",
   "execution_count": null,
   "metadata": {
    "collapsed": false
   },
   "outputs": [],
   "source": [
    "coef = np.random.randn(1000)\n",
    "%timeit p1(0.9, coef)"
   ]
  },
  {
   "cell_type": "code",
   "execution_count": null,
   "metadata": {
    "collapsed": false
   },
   "outputs": [],
   "source": [
    "%timeit p2(0.9, coef)"
   ]
  },
  {
   "cell_type": "code",
   "execution_count": null,
   "metadata": {
    "collapsed": false
   },
   "outputs": [],
   "source": [
    "%whos"
   ]
  },
  {
   "cell_type": "code",
   "execution_count": null,
   "metadata": {
    "collapsed": false
   },
   "outputs": [],
   "source": [
    "%%writefile test.py\n",
    "import numpy as np\n",
    "def p1(x, coef):\n",
    "    return sum(a * x**i for i, a in enumerate(coef))\n",
    "\n",
    "coef = np.random.randn(1000)\n",
    "print p1(0.9, coef)"
   ]
  },
  {
   "cell_type": "code",
   "execution_count": null,
   "metadata": {
    "collapsed": false
   },
   "outputs": [],
   "source": [
    "%run test.py"
   ]
  },
  {
   "cell_type": "code",
   "execution_count": null,
   "metadata": {
    "collapsed": false
   },
   "outputs": [],
   "source": [
    "# %load test.py\n",
    "import numpy as np\n",
    "def p1(x, coef):\n",
    "    return sum(a * x**i for i, a in enumerate(coef))\n",
    "\n",
    "coef = np.random.randn(1000)\n",
    "print p1(0.9, coef)"
   ]
  },
  {
   "cell_type": "markdown",
   "metadata": {},
   "source": [
    "# Advanced programming for data analysis: NumPy.\n"
   ]
  },
  {
   "cell_type": "markdown",
   "metadata": {},
   "source": [
    "<div class = \"alert alert-success\">  **NumPy** is an open-source add-on module to Python that provide common mathematical and numerical routines in pre-compiled, fast functions.</div>"
   ]
  },
  {
   "cell_type": "markdown",
   "metadata": {},
   "source": [
    "There are several ways to import NumPy. The standard approach is: "
   ]
  },
  {
   "cell_type": "code",
   "execution_count": null,
   "metadata": {
    "collapsed": false
   },
   "outputs": [],
   "source": [
    "import numpy as np"
   ]
  },
  {
   "cell_type": "markdown",
   "metadata": {},
   "source": [
    "The central feature of NumPy is the **array** object class. Arrays are similar to lists in Python, except that every element of an array must be of the same type, typically a numeric type like float or int. \n",
    "\n",
    "Arrays make operations with large amounts of numeric data very fast and are generally much more efficient than lists. "
   ]
  },
  {
   "cell_type": "markdown",
   "metadata": {},
   "source": [
    "### Array creation\n",
    "\n",
    "There are several ways for creating an array:\n",
    "    \n",
    "+ Explicitly from a list of values.\n",
    "+ As a range of values.\n",
    "+ As a random array.\n",
    "+ By specifying the number of elements.\n",
    "+ By creating an unitializated, a zero-initializated or one-initializated array.\n",
    "+ By creating a constant diagonal value array.\n",
    "+ Etc.\n",
    "\n"
   ]
  },
  {
   "cell_type": "code",
   "execution_count": null,
   "metadata": {
    "collapsed": false
   },
   "outputs": [],
   "source": [
    "a = np.array([1, 2, 4, 8, 16], float) \n",
    "print a[:2], len(a) "
   ]
  },
  {
   "cell_type": "code",
   "execution_count": null,
   "metadata": {
    "collapsed": false
   },
   "outputs": [],
   "source": [
    "print np.arange(5, dtype=float)  \n",
    "print np.ones((2,3), dtype=float)  \n",
    "print np.zeros(7, dtype=int)\n",
    "a= np.array([[1, 2, 3], [4, 5, 6]], float) \n",
    "print np.zeros_like(a) \n",
    "print np.identity(4, dtype=str) "
   ]
  },
  {
   "cell_type": "code",
   "execution_count": null,
   "metadata": {
    "collapsed": false
   },
   "outputs": [],
   "source": [
    "a = np.linspace(0,100,10)\n",
    "print a"
   ]
  },
  {
   "cell_type": "code",
   "execution_count": null,
   "metadata": {
    "collapsed": false
   },
   "outputs": [],
   "source": [
    "a = np.linspace(10,100,10)\n",
    "print a"
   ]
  },
  {
   "cell_type": "code",
   "execution_count": null,
   "metadata": {
    "collapsed": false
   },
   "outputs": [],
   "source": [
    "np.random.rand(2,3) "
   ]
  },
  {
   "cell_type": "code",
   "execution_count": null,
   "metadata": {
    "collapsed": false
   },
   "outputs": [],
   "source": [
    "a = np.random.normal(size=5) \n",
    "b = np.random.normal(5, size=5)         # mean = 5\n",
    "print a\n",
    "print b"
   ]
  },
  {
   "cell_type": "code",
   "execution_count": null,
   "metadata": {
    "collapsed": false
   },
   "outputs": [],
   "source": [
    "np.random.normal?"
   ]
  },
  {
   "cell_type": "markdown",
   "metadata": {},
   "source": [
    "Arrays can be multidimensional. **Unlike lists**, different axes are accessed using commas inside \n",
    "bracket notation."
   ]
  },
  {
   "cell_type": "code",
   "execution_count": null,
   "metadata": {
    "collapsed": false
   },
   "outputs": [],
   "source": [
    "a = np.array([[1, 2, 3], [4, 5, 6]], int)\n",
    "print a[0,0]                # different axes are accessed using commas inside bracket notation\n",
    "print a[-1:,-2:]"
   ]
  },
  {
   "cell_type": "markdown",
   "metadata": {},
   "source": [
    "Object arrays have several properties:"
   ]
  },
  {
   "cell_type": "code",
   "execution_count": null,
   "metadata": {
    "collapsed": false
   },
   "outputs": [],
   "source": [
    "print a.shape, a.dtype"
   ]
  },
  {
   "cell_type": "markdown",
   "metadata": {},
   "source": [
    "The ``in`` statement can be used to test if values are present in an array: \n"
   ]
  },
  {
   "cell_type": "code",
   "execution_count": null,
   "metadata": {
    "collapsed": false
   },
   "outputs": [],
   "source": [
    "2 in a "
   ]
  },
  {
   "cell_type": "markdown",
   "metadata": {},
   "source": [
    "Arrays can be reshaped using tuples that specify new dimensions. "
   ]
  },
  {
   "cell_type": "code",
   "execution_count": null,
   "metadata": {
    "collapsed": false
   },
   "outputs": [],
   "source": [
    "a = a.reshape((3, 2))    # this function creates a new array!\n",
    "print a"
   ]
  },
  {
   "cell_type": "markdown",
   "metadata": {},
   "source": [
    "Lists can also be created from arrays: "
   ]
  },
  {
   "cell_type": "code",
   "execution_count": null,
   "metadata": {
    "collapsed": false
   },
   "outputs": [],
   "source": [
    "a = np.array([1, 2, 3], float) \n",
    "type(a.tolist())"
   ]
  },
  {
   "cell_type": "markdown",
   "metadata": {},
   "source": [
    "Other functions and properties:"
   ]
  },
  {
   "cell_type": "code",
   "execution_count": null,
   "metadata": {
    "collapsed": false
   },
   "outputs": [],
   "source": [
    "a = np.array(range(6), float).reshape((2, 3)) \n",
    "a.transpose()   # Transposed versions of arrays"
   ]
  },
  {
   "cell_type": "code",
   "execution_count": null,
   "metadata": {
    "collapsed": false
   },
   "outputs": [],
   "source": [
    "a.flatten()    # One-dimensional versions of multi-dimensional arrays"
   ]
  },
  {
   "cell_type": "code",
   "execution_count": null,
   "metadata": {
    "collapsed": false
   },
   "outputs": [],
   "source": [
    "a = np.array([1,2], float) \n",
    "b = np.array([3,4,5,6], float) \n",
    "c = np.array([7,8,9], float) \n",
    "np.concatenate((a, b, c))          # Concatenation"
   ]
  },
  {
   "cell_type": "code",
   "execution_count": null,
   "metadata": {
    "collapsed": false
   },
   "outputs": [],
   "source": [
    "a = np.array([[1, 2], [3, 4]], float) \n",
    "b = np.array([[5, 6], [7,8]], float) \n",
    "np.concatenate((a,b), axis=0)      # it is possible to specify the axis for concatenation"
   ]
  },
  {
   "cell_type": "code",
   "execution_count": null,
   "metadata": {
    "collapsed": false
   },
   "outputs": [],
   "source": [
    "np.concatenate((a,b), axis=1)"
   ]
  },
  {
   "cell_type": "code",
   "execution_count": null,
   "metadata": {
    "collapsed": false
   },
   "outputs": [],
   "source": [
    "a = np.array([2, 4, 3], float) \n",
    "print a.sum(), a.prod(), a.mean(), a.var(), a.std(), a.min(), a.max()\n",
    "print a.argmin(), a.argmax()     # these functions return the array indices "
   ]
  },
  {
   "cell_type": "markdown",
   "metadata": {},
   "source": [
    "One dimensional arrays have a 1-tuple for their shape: <code> (size,)</code>.\n",
    "\n",
    "N-dimensional arrays have a N-tuple for their shape: <code> (size1, ..., sizeN)</code>.\n",
    "\n",
    "For multidimensional arrays, each of the functions thus far described can take an optional \n",
    "argument ``axis`` that will perform an operation along only the specified axis, placing the results in a return array. "
   ]
  },
  {
   "cell_type": "code",
   "execution_count": null,
   "metadata": {
    "collapsed": false
   },
   "outputs": [],
   "source": [
    "a = np.array([[0, 2], [3, -1], [3, 5]], float) \n",
    "print a\n",
    "print a.mean(axis=0), a.mean(axis=1), a.min(axis=1), a.max(axis=0) "
   ]
  },
  {
   "cell_type": "markdown",
   "metadata": {},
   "source": [
    "<div class=\"alert alert-info\">`ipythonblocks` is a teaching tool that allows students to experiment with Python flow control concepts and immediately see the effects of their code represented in a colorful, attractive way. BlockGrid objects can be **indexed and sliced like 2D NumPy arrays** making them good practice for learning how to access arrays. </div>\n"
   ]
  },
  {
   "cell_type": "code",
   "execution_count": null,
   "metadata": {
    "collapsed": false
   },
   "outputs": [],
   "source": [
    "import os\n",
    "os.chdir('./modules/')\n",
    "from ipythonblocks import BlockGrid\n",
    "os.chdir('..')\n",
    "os.getcwd()"
   ]
  },
  {
   "cell_type": "code",
   "execution_count": null,
   "metadata": {
    "collapsed": false
   },
   "outputs": [],
   "source": [
    "grid = BlockGrid(8, 8, fill=(123, 234, 123))\n",
    "grid"
   ]
  },
  {
   "cell_type": "code",
   "execution_count": null,
   "metadata": {
    "collapsed": false
   },
   "outputs": [],
   "source": [
    "grid[0, 0] = (0, 0, 0)\n",
    "grid[0, 2] = (255, 0, 0)\n",
    "grid[0, 4] = (255, 255, 255)\n",
    "grid[0, 6] = (0, 150, 150)\n",
    "grid.show()"
   ]
  },
  {
   "cell_type": "code",
   "execution_count": null,
   "metadata": {
    "collapsed": false
   },
   "outputs": [],
   "source": [
    "from ipythonblocks import colors\n",
    "grid[1, 1] = colors['Teal']\n",
    "grid[1, 2] = colors['Thistle']\n",
    "grid[1, 3] = colors['Peru']\n",
    "grid.show()"
   ]
  },
  {
   "cell_type": "code",
   "execution_count": null,
   "metadata": {
    "collapsed": false
   },
   "outputs": [],
   "source": [
    "a = grid[0, 0]\n",
    "a"
   ]
  },
  {
   "cell_type": "code",
   "execution_count": null,
   "metadata": {
    "collapsed": false
   },
   "outputs": [],
   "source": [
    "print a"
   ]
  },
  {
   "cell_type": "code",
   "execution_count": null,
   "metadata": {
    "collapsed": false
   },
   "outputs": [],
   "source": [
    "print grid[0,0] == grid[0,1]    \n",
    "print grid[0,1] == grid[0,3]"
   ]
  },
  {
   "cell_type": "markdown",
   "metadata": {},
   "source": [
    "### Indexing and Slicing\n",
    "\n",
    "Array views contain a pointer to the original data, but may have different\n",
    "shape or stride values."
   ]
  },
  {
   "cell_type": "markdown",
   "metadata": {},
   "source": [
    "<div class=\"alert alert-success\"> **Simple assigments do not make copies of arrays. Slicing operations do not make copies either; they return views on the original array**.</div>"
   ]
  },
  {
   "cell_type": "code",
   "execution_count": null,
   "metadata": {
    "collapsed": false
   },
   "outputs": [],
   "source": [
    "a = np.array(range(64)).reshape((8,8))\n",
    "print a"
   ]
  },
  {
   "cell_type": "code",
   "execution_count": null,
   "metadata": {
    "collapsed": false
   },
   "outputs": [],
   "source": [
    "print a[0:2,:] "
   ]
  },
  {
   "cell_type": "code",
   "execution_count": null,
   "metadata": {
    "collapsed": false
   },
   "outputs": [],
   "source": [
    "grid = BlockGrid(8, 8, fill=(123, 234, 123))\n",
    "grid[0:2,:] = colors['Teal']\n",
    "grid.show()"
   ]
  },
  {
   "cell_type": "code",
   "execution_count": null,
   "metadata": {
    "collapsed": false
   },
   "outputs": [],
   "source": [
    "print a[2,1:]  # This is an element!"
   ]
  },
  {
   "cell_type": "code",
   "execution_count": null,
   "metadata": {
    "collapsed": false
   },
   "outputs": [],
   "source": [
    "grid[2,1:] = colors['Teal']\n",
    "grid.show()"
   ]
  },
  {
   "cell_type": "code",
   "execution_count": null,
   "metadata": {
    "collapsed": false
   },
   "outputs": [],
   "source": [
    "print a[0,1:] # This is an element!"
   ]
  },
  {
   "cell_type": "code",
   "execution_count": null,
   "metadata": {
    "collapsed": false
   },
   "outputs": [],
   "source": [
    "print a[:2,2:3]"
   ]
  },
  {
   "cell_type": "code",
   "execution_count": null,
   "metadata": {
    "collapsed": false
   },
   "outputs": [],
   "source": [
    "grid[:2,2:3] = colors['Peru']\n",
    "grid.show()"
   ]
  },
  {
   "cell_type": "code",
   "execution_count": null,
   "metadata": {
    "collapsed": false
   },
   "outputs": [],
   "source": [
    "print a[:,::2]"
   ]
  },
  {
   "cell_type": "code",
   "execution_count": null,
   "metadata": {
    "collapsed": false
   },
   "outputs": [],
   "source": [
    "grid[:,::2] = colors['Peru']\n",
    "grid.show()"
   ]
  },
  {
   "cell_type": "code",
   "execution_count": null,
   "metadata": {
    "collapsed": false
   },
   "outputs": [],
   "source": [
    "print a[::2,::3]"
   ]
  },
  {
   "cell_type": "code",
   "execution_count": null,
   "metadata": {
    "collapsed": false
   },
   "outputs": [],
   "source": [
    "grid[::2,::3] = (255, 0, 0)\n",
    "grid.show()"
   ]
  },
  {
   "cell_type": "markdown",
   "metadata": {},
   "source": [
    "### Exercise\n",
    "\n",
    "By using a grid representation:\n",
    "+ Build a graphical representation of all multiples of 3 numbers from 0 to 49 by using exclusively the ``slicing`` operator (no iterations). ``BlockGrid(50, 1, block_size=10, fill=(123, 234, 123))``\n",
    "+ Build a graphical representation of the prime numbers from 0 to 4999. (Hint: Compute the list of prime numbers and map this list to the grid representation). ``BlockGrid(50, 100, block_size=10, fill=(123, 234, 123))``"
   ]
  },
  {
   "cell_type": "code",
   "execution_count": null,
   "metadata": {
    "collapsed": false
   },
   "outputs": [],
   "source": [
    "# Your solution here"
   ]
  },
  {
   "cell_type": "markdown",
   "metadata": {},
   "source": [
    "### Array operations\n",
    "\n",
    "Standard mathematical operations are applied on an **element-by-element basis**."
   ]
  },
  {
   "cell_type": "code",
   "execution_count": null,
   "metadata": {
    "collapsed": false
   },
   "outputs": [],
   "source": [
    "a = np.array([1,2,3], float) \n",
    "b = np.array([5,2,6], float) \n",
    "print a + b, a % b, a ** b"
   ]
  },
  {
   "cell_type": "markdown",
   "metadata": {},
   "source": [
    "For two-dimensional arrays, multiplication remains elementwise and does not correspond to \n",
    "matrix multiplication. There are special functions for matrix math. "
   ]
  },
  {
   "cell_type": "code",
   "execution_count": null,
   "metadata": {
    "collapsed": false
   },
   "outputs": [],
   "source": [
    "a = np.array([[1,2], [3,4]], float) \n",
    "b = np.array([[2,0], [1,3]], float) \n",
    "a * b "
   ]
  },
  {
   "cell_type": "markdown",
   "metadata": {},
   "source": [
    "Arrays that do not match in the number of dimensions will be **broadcasted** by Python \n",
    "to perform mathematical operations. This often means that the smaller array will be repeated \n",
    "as necessary to perform the operation indicated."
   ]
  },
  {
   "cell_type": "code",
   "execution_count": null,
   "metadata": {
    "collapsed": false
   },
   "outputs": [],
   "source": [
    "a = np.array([[1, 2], [3, 4], [5, 6]], float) \n",
    "b = np.array([-1, 3], float) \n",
    "print a , b\n",
    "print \n",
    "print a + b "
   ]
  },
  {
   "cell_type": "markdown",
   "metadata": {},
   "source": [
    "Sometimes, however, we can use the ``newaxis`` constant to specify how we \n",
    "want to broadcast:"
   ]
  },
  {
   "cell_type": "code",
   "execution_count": null,
   "metadata": {
    "collapsed": false
   },
   "outputs": [],
   "source": [
    "a = np.zeros((2,2), float) \n",
    "b = np.array([-1., 3.], float) \n",
    "print a, b\n",
    "print\n",
    "print a + b \n",
    "print\n",
    "print a + b[np.newaxis,:] \n",
    "print\n",
    "print a + b[:,np.newaxis] \n"
   ]
  },
  {
   "cell_type": "markdown",
   "metadata": {},
   "source": [
    "NumPy offers a large library of common mathematical functions that can be applied elementwise to arrays. Among these are the functions: <code> abs,sign, sqrt, log, log10, exp, sin, cos, tan, arcsin, arccos, arctan, sinh, cosh, tanh, arcsinh, arccosh, </code> and <code>arctanh </code>. \n"
   ]
  },
  {
   "cell_type": "code",
   "execution_count": null,
   "metadata": {
    "collapsed": false
   },
   "outputs": [],
   "source": [
    "a = np.array([1, 4, 9], float) \n",
    "np.sin(a)"
   ]
  },
  {
   "cell_type": "markdown",
   "metadata": {},
   "source": [
    "It is possible to iterate over arrays in a manner similar to that of lists: "
   ]
  },
  {
   "cell_type": "code",
   "execution_count": null,
   "metadata": {
    "collapsed": false
   },
   "outputs": [],
   "source": [
    "a = np.array([[1, 2], [3, 4], [5, 6]], float) \n",
    "for x in a: \n",
    "    print x"
   ]
  },
  {
   "cell_type": "code",
   "execution_count": null,
   "metadata": {
    "collapsed": false
   },
   "outputs": [],
   "source": [
    "for [x, y] in a:             # Multiple assignment can also be used with array iteration\n",
    "    print x * y"
   ]
  },
  {
   "cell_type": "code",
   "execution_count": null,
   "metadata": {
    "collapsed": false
   },
   "outputs": [],
   "source": [
    "a = np.array([6, 2, 5, -1, 0], float) \n",
    "a.sort() \n",
    "print a"
   ]
  },
  {
   "cell_type": "markdown",
   "metadata": {},
   "source": [
    "### Comparison operators and value testing \n",
    "Boolean comparisons can be used to compare members elementwise on arrays of equal size. \n"
   ]
  },
  {
   "cell_type": "code",
   "execution_count": null,
   "metadata": {
    "collapsed": false
   },
   "outputs": [],
   "source": [
    "a = np.array([1, 3, 0], float) \n",
    "b = np.array([0, 3, 2], float) \n",
    "print a > b \n",
    "print a == b \n",
    "print a <= b \n"
   ]
  },
  {
   "cell_type": "markdown",
   "metadata": {},
   "source": [
    "Arrays can be compared to single values using broadcasting: "
   ]
  },
  {
   "cell_type": "code",
   "execution_count": null,
   "metadata": {
    "collapsed": false
   },
   "outputs": [],
   "source": [
    "a = np.array([1, 3, 0], float) \n",
    "a > 2"
   ]
  },
  {
   "cell_type": "markdown",
   "metadata": {},
   "source": [
    "The <code>any</code> and <code>all</code> operators can be used to determine whether or not any or all elements of a \n",
    "Boolean array are true: "
   ]
  },
  {
   "cell_type": "code",
   "execution_count": null,
   "metadata": {
    "collapsed": false
   },
   "outputs": [],
   "source": [
    "c = np.array([ True, False, False], bool) \n",
    "print any(c), all(c)"
   ]
  },
  {
   "cell_type": "markdown",
   "metadata": {},
   "source": [
    "Compound Boolean expressions can be applied to arrays on an element-by-element basis using \n",
    "special functions ``logical_and``, ``logical_or``, and ``logical_not``. "
   ]
  },
  {
   "cell_type": "code",
   "execution_count": null,
   "metadata": {
    "collapsed": false
   },
   "outputs": [],
   "source": [
    "a = np.array([1, 3, 0], float) \n",
    "print np.logical_and(a > 0, a < 3) \n",
    "b = np.array([True, False, True], bool) \n",
    "print np.logical_not(b) \n",
    "c = np.array([False, True, False], bool) \n",
    "print np.logical_or(b, c) \n"
   ]
  },
  {
   "cell_type": "markdown",
   "metadata": {},
   "source": [
    "The ``where`` function forms a new array from two arrays of equivalent size using a Boolean filter  to choose between elements of the two. Its basic syntax is: <br>\n",
    "<code>where(boolarray, truearray, falsearray)</code>"
   ]
  },
  {
   "cell_type": "code",
   "execution_count": null,
   "metadata": {
    "collapsed": false
   },
   "outputs": [],
   "source": [
    "a = np.array([1, 3, 0], float) \n",
    "b = np.where(a != 0, 1 / a, a) \n",
    "print b\n"
   ]
  },
  {
   "cell_type": "markdown",
   "metadata": {},
   "source": [
    "### Array item selection and manipulation \n",
    "We can use array selectors to **filter** for specific subsets of elements of other arrays. "
   ]
  },
  {
   "cell_type": "code",
   "execution_count": null,
   "metadata": {
    "collapsed": false
   },
   "outputs": [],
   "source": [
    "a = np.array([[6, 4], [5, 9]], float) \n",
    "a >= 6"
   ]
  },
  {
   "cell_type": "code",
   "execution_count": null,
   "metadata": {
    "collapsed": false
   },
   "outputs": [],
   "source": [
    "a[a >= 6] "
   ]
  },
  {
   "cell_type": "code",
   "execution_count": null,
   "metadata": {
    "collapsed": false
   },
   "outputs": [],
   "source": [
    "a = np.array([[6, 4], [5, 9]], float) \n",
    "sel = (a >= 6) \n",
    "a[sel] "
   ]
  },
  {
   "cell_type": "markdown",
   "metadata": {},
   "source": [
    "It is also possible to select using integer arrays that represent indexes."
   ]
  },
  {
   "cell_type": "code",
   "execution_count": null,
   "metadata": {
    "collapsed": false
   },
   "outputs": [],
   "source": [
    "a = np.array([2, 4, 6, 8], float) \n",
    "b = np.array([0, 0, 1, 3, 2, 1], int)  # the 0th, 0th, 1st, 3rd, 2nd, and 1st elements of a\n",
    "a[b] "
   ]
  },
  {
   "cell_type": "markdown",
   "metadata": {},
   "source": [
    "For multidimensional arrays, we have to send multiple one-dimensional integer arrays to the \n",
    "selection bracket, one for each axis."
   ]
  },
  {
   "cell_type": "code",
   "execution_count": null,
   "metadata": {
    "collapsed": false
   },
   "outputs": [],
   "source": [
    "a = np.array([[1, 4], [9, 16]], float) \n",
    "b = np.array([0, 0, 1, 1, 0], int) \n",
    "c = np.array([0, 1, 1, 1, 1], int) \n",
    "a[b,c] \n"
   ]
  },
  {
   "cell_type": "markdown",
   "metadata": {},
   "source": [
    "### Vector and matrix mathematics"
   ]
  },
  {
   "cell_type": "code",
   "execution_count": null,
   "metadata": {
    "collapsed": false
   },
   "outputs": [],
   "source": [
    "a = np.array([1, 2, 3], float) \n",
    "b = np.array([0, 1, 1], float) \n",
    "np.dot(a, b) \n"
   ]
  },
  {
   "cell_type": "code",
   "execution_count": null,
   "metadata": {
    "collapsed": false
   },
   "outputs": [],
   "source": [
    "a = np.array([[0, 1], [2, 3]], float) \n",
    "b = np.array([2, 3], float) \n",
    "c = np.array([[1, 1], [4, 0]], float) \n",
    "print np.dot(b, a)\n",
    "print np.dot(a, c) "
   ]
  },
  {
   "cell_type": "markdown",
   "metadata": {},
   "source": [
    "It is also possible to generate inner, outer, and cross products of matrices and vectors."
   ]
  },
  {
   "cell_type": "code",
   "execution_count": null,
   "metadata": {
    "collapsed": false
   },
   "outputs": [],
   "source": [
    "a = np.array([1, 4, 0], float) \n",
    "b = np.array([2, 2, 1], float) \n",
    "np.outer(a, b) \n",
    "\n",
    "print np.inner(a, b) \n",
    "\n",
    "print np.cross(a, b) "
   ]
  },
  {
   "cell_type": "markdown",
   "metadata": {},
   "source": [
    "NumPy also comes with a number of built-in routines for linear algebra calculations. "
   ]
  },
  {
   "cell_type": "code",
   "execution_count": null,
   "metadata": {
    "collapsed": false
   },
   "outputs": [],
   "source": [
    "a = np.array([[4, 2, 0], [9, 3, 7], [1, 2, 1]], float)\n",
    "np.linalg.det(a)                 # These can be found in the sub-module linalg"
   ]
  },
  {
   "cell_type": "code",
   "execution_count": null,
   "metadata": {
    "collapsed": false
   },
   "outputs": [],
   "source": [
    "vals, vecs = np.linalg.eig(a)\n",
    "print vals\n",
    "print\n",
    "print vecs"
   ]
  },
  {
   "cell_type": "code",
   "execution_count": null,
   "metadata": {
    "collapsed": false
   },
   "outputs": [],
   "source": [
    "b = np.linalg.inv(a) \n",
    "print b"
   ]
  },
  {
   "cell_type": "markdown",
   "metadata": {},
   "source": [
    "### Vectorize to Avoid Unnecessary Loops!"
   ]
  },
  {
   "cell_type": "code",
   "execution_count": null,
   "metadata": {
    "collapsed": false
   },
   "outputs": [],
   "source": [
    "import numpy as np\n",
    "\n",
    "def pydot(a, b):\n",
    "    M,N = np.shape(a)\n",
    "    P,Q = np.shape(b)\n",
    "    c = np.zeros((M,Q))\n",
    "    for i in xrange(M):\n",
    "        for j in xrange(Q):\n",
    "            for k in xrange(N):\n",
    "                c[i,j] += a[i,k] * b[k,j]\n",
    "    return c\n",
    "\n",
    "a = np.random.randn(100,100)\n",
    "b = np.random.randn(100,100)\n",
    "%timeit pydot(a,b)"
   ]
  },
  {
   "cell_type": "code",
   "execution_count": null,
   "metadata": {
    "collapsed": false
   },
   "outputs": [],
   "source": [
    "%timeit np.dot(a,b)"
   ]
  },
  {
   "cell_type": "code",
   "execution_count": null,
   "metadata": {
    "collapsed": false
   },
   "outputs": [],
   "source": [
    "%%timeit\n",
    "n = 100000\n",
    "sum = 0\n",
    "for i in range(n):\n",
    "    x = random.uniform(0, 1)\n",
    "    sum += x**2"
   ]
  },
  {
   "cell_type": "markdown",
   "metadata": {},
   "source": [
    "Note how ``%%`` in front of `timeit` converts this line magic into a cell magic."
   ]
  },
  {
   "cell_type": "code",
   "execution_count": null,
   "metadata": {
    "collapsed": false
   },
   "outputs": [],
   "source": [
    "%%timeit\n",
    "n = 100000\n",
    "x = np.random.uniform(0, 1, n)\n",
    "np.sum(x**2)"
   ]
  },
  {
   "cell_type": "markdown",
   "metadata": {},
   "source": [
    "## Exercise\n",
    "\n",
    "Rewrite (and compare running time) the following functions so that it is fully vectorized: that is, so that it consists of a sequence of NumPy operations on whole arrays, with no native Python loops."
   ]
  },
  {
   "cell_type": "code",
   "execution_count": null,
   "metadata": {
    "collapsed": false
   },
   "outputs": [],
   "source": [
    "def sumproducts(x, y):\n",
    "    \"\"\"Return the sum of x[i] * y[j] for all pairs of indices i, j.\n",
    "\n",
    "    >>> sumproducts(np.arange(3000), np.arange(3000))\n",
    "    20236502250000\n",
    "\n",
    "    \"\"\"\n",
    "    result = 0\n",
    "    for i in range(len(x)):\n",
    "        for j in range(len(y)):\n",
    "            result += x[i] * y[j]\n",
    "    return result\n",
    "\n",
    "%timeit sumproducts(np.arange(3000), np.arange(3000))"
   ]
  },
  {
   "cell_type": "code",
   "execution_count": null,
   "metadata": {
    "collapsed": true
   },
   "outputs": [],
   "source": [
    "# Your code here"
   ]
  },
  {
   "cell_type": "code",
   "execution_count": null,
   "metadata": {
    "collapsed": false
   },
   "outputs": [],
   "source": [
    "def countlower(x, y):\n",
    "    \"\"\"Return the number of pairs i, j such that x[i] < y[j].\n",
    "\n",
    "    >>> countlower(np.arange(0, 200, 2), np.arange(40, 140))\n",
    "    4500\n",
    "\n",
    "    \"\"\"\n",
    "    result = 0\n",
    "    for i in range(len(x)):\n",
    "        for j in range(len(y)):\n",
    "            if x[i] < y[j]:\n",
    "                result += 1\n",
    "    return result\n",
    "\n",
    "%timeit countlower(np.arange(0, 200, 2), np.arange(40, 140))"
   ]
  },
  {
   "cell_type": "code",
   "execution_count": null,
   "metadata": {
    "collapsed": true
   },
   "outputs": [],
   "source": [
    "# Your code here"
   ]
  },
  {
   "cell_type": "markdown",
   "metadata": {},
   "source": [
    "## Exercise \n",
    "\n",
    "In the following table we have expression values for 5 genes at 4 time points. \n",
    "\n",
    "                        Gene name   4h\t12h\t  24h\t48h\n",
    "                        A2M        0.12\t0.08  0.06\t0.02\n",
    "                        FOS        0.01\t0.07  0.11\t0.09\n",
    "                        BRCA2      0.03\t0.04  0.04\t0.02\n",
    "                        CPOX       0.05\t0.09  0.11\t0.14\n",
    "\n",
    "+ Create a single array for the data (4x4)\n",
    "+ Find the mean expression value per gene\n",
    "+ Find the mean expression value per time point\n",
    "+ Which gene has the maximum mean expression value? (Use the ``tab`` help on an array)"
   ]
  },
  {
   "cell_type": "code",
   "execution_count": null,
   "metadata": {
    "collapsed": false
   },
   "outputs": [],
   "source": [
    "# Your solution here"
   ]
  },
  {
   "cell_type": "code",
   "execution_count": null,
   "metadata": {
    "collapsed": false
   },
   "outputs": [],
   "source": [
    "print genes.mean(axis=1)"
   ]
  },
  {
   "cell_type": "code",
   "execution_count": null,
   "metadata": {
    "collapsed": false
   },
   "outputs": [],
   "source": [
    "print genes.mean(axis=0)"
   ]
  },
  {
   "cell_type": "code",
   "execution_count": null,
   "metadata": {
    "collapsed": false
   },
   "outputs": [],
   "source": [
    "names[genes.argmax()/4]"
   ]
  },
  {
   "cell_type": "markdown",
   "metadata": {},
   "source": [
    "### Exercise\n",
    "\n",
    "Consider the polynomial\n",
    "\n",
    "$$ p(x) = a_0 + a_1 x + \\dots + a_n x^n $$\n",
    "\n",
    "Earlier, you wrote a simple function ``p(x, coeff)`` to evaluate it without considering efficiency. \n",
    "\n",
    "Now write a new function that does the same job, but uses NumPy arrays and array operations for its computations, rather than any form of Python loop.\n",
    "\n",
    "Hint: Use ``np.cumprod()``"
   ]
  },
  {
   "cell_type": "code",
   "execution_count": null,
   "metadata": {
    "collapsed": false
   },
   "outputs": [],
   "source": [
    "a = np.array([1,2,3])\n",
    "np.cumprod(a)"
   ]
  },
  {
   "cell_type": "code",
   "execution_count": null,
   "metadata": {
    "collapsed": true
   },
   "outputs": [],
   "source": [
    "# Your solution here"
   ]
  },
  {
   "cell_type": "markdown",
   "metadata": {},
   "source": [
    "## Advanced programming for data analysis: pandas.\n",
    "\n",
    "pandas is a fundamental high-level building block for doing practical, real world data analysis in Python.\n",
    "\n",
    "pandas is well suited for:\n",
    "\n",
    "+ Tabular data with heterogeneously-typed columns, as in an SQL table or Excel spreadsheet\n",
    "+ Ordered and unordered (not necessarily fixed-frequency) time series data.\n",
    "+ Arbitrary matrix data (homogeneously typed or heterogeneous) with row and column labels.\n"
   ]
  },
  {
   "cell_type": "markdown",
   "metadata": {},
   "source": [
    "<div class=\"alert alert-success\"> **pandas is a Python package providing fast, flexible, and expressive data structures designed to work with both relational or labeled data. **.</div>\n"
   ]
  },
  {
   "cell_type": "markdown",
   "metadata": {},
   "source": [
    "Key features:\n",
    "\n",
    "+ Easy handling of missing data\n",
    "+ Size mutability: columns can be inserted and deleted from DataFrame\n",
    "+ Powerful, flexible ``group by`` functionality to perform split-apply-combine operations on data sets\n",
    "+ Intelligent label-based slicing, fancy indexing, and subsetting of large data sets\n",
    "+ Intuitive merging and joining data sets\n",
    "+ Flexible reshaping and pivoting of data sets\n",
    "+ Hierarchical labeling of axes\n",
    "+ Robust IO tools for loading data from flat files, Excel files, databases, and HDF5\n",
    "+ Time series functionality: date range generation and frequency conversion, moving window statistics, moving window linear regressions, date shifting and lagging, etc."
   ]
  },
  {
   "cell_type": "markdown",
   "metadata": {},
   "source": [
    "Pandas has a lot of functionality, so we'll only be able to cover a **small** fraction of what you can do. Check out the (very readable) pandas docs if you want to learn more:\n",
    "\n",
    "http://pandas.pydata.org/pandas-docs/stable/"
   ]
  },
  {
   "cell_type": "markdown",
   "metadata": {},
   "source": [
    "### Series and DataFrames\n",
    "\n",
    "A Series is a single vector of data with an index that labels every element in the vector. \n",
    "\n",
    "If we do not specify the index, a sequence of integers is assigned as index."
   ]
  },
  {
   "cell_type": "code",
   "execution_count": null,
   "metadata": {
    "collapsed": false
   },
   "outputs": [],
   "source": [
    "import pandas as pd                            # convention, alias 'pd'\n",
    "c = pd.Series([1956, 1967, 1989, 2000])\n",
    "c"
   ]
  },
  {
   "cell_type": "markdown",
   "metadata": {},
   "source": [
    "Its values are stores in a NumPy array (``values``) and the index in a pandas ``Index`` object:"
   ]
  },
  {
   "cell_type": "code",
   "execution_count": null,
   "metadata": {
    "collapsed": false
   },
   "outputs": [],
   "source": [
    "c.values"
   ]
  },
  {
   "cell_type": "code",
   "execution_count": null,
   "metadata": {
    "collapsed": false
   },
   "outputs": [],
   "source": [
    "c.index"
   ]
  },
  {
   "cell_type": "code",
   "execution_count": null,
   "metadata": {
    "collapsed": false
   },
   "outputs": [],
   "source": [
    "c = pd.Series([1956, 1967, 1989, 2000], index = ['a','b','c','d'])\n",
    "c"
   ]
  },
  {
   "cell_type": "code",
   "execution_count": null,
   "metadata": {
    "collapsed": false
   },
   "outputs": [],
   "source": [
    "print c['d'], c[3]"
   ]
  },
  {
   "cell_type": "markdown",
   "metadata": {},
   "source": [
    "DataFrames are designed to store heterogeneous multivariate data."
   ]
  },
  {
   "cell_type": "code",
   "execution_count": null,
   "metadata": {
    "collapsed": false
   },
   "outputs": [],
   "source": [
    "c = pd.DataFrame({'VarA':['aa','bb'], 'VarB':[22.2,33.3]}, \\\n",
    "                 index = ['Case1','Case2'])\n",
    "c"
   ]
  },
  {
   "cell_type": "markdown",
   "metadata": {},
   "source": [
    "A DataFrame has a second index representing columns:"
   ]
  },
  {
   "cell_type": "code",
   "execution_count": null,
   "metadata": {
    "collapsed": false
   },
   "outputs": [],
   "source": [
    "c.columns"
   ]
  },
  {
   "cell_type": "markdown",
   "metadata": {},
   "source": [
    "We can access **columns** as in a dictionary or with the ``.`` notation:"
   ]
  },
  {
   "cell_type": "code",
   "execution_count": null,
   "metadata": {
    "collapsed": false
   },
   "outputs": [],
   "source": [
    "c.VarA"
   ]
  },
  {
   "cell_type": "code",
   "execution_count": null,
   "metadata": {
    "collapsed": false
   },
   "outputs": [],
   "source": [
    "c['VarA']"
   ]
  },
  {
   "cell_type": "markdown",
   "metadata": {},
   "source": [
    "These two methods return a ``Series`` object:"
   ]
  },
  {
   "cell_type": "code",
   "execution_count": null,
   "metadata": {
    "collapsed": false
   },
   "outputs": [],
   "source": [
    "type(c.VarA), type(c['VarA'])"
   ]
  },
  {
   "cell_type": "markdown",
   "metadata": {},
   "source": [
    "If we want to access a **row** in a DataFrame we can index its ``ix`` attribute:"
   ]
  },
  {
   "cell_type": "code",
   "execution_count": null,
   "metadata": {
    "collapsed": false
   },
   "outputs": [],
   "source": [
    "print c.ix[0]\n",
    "print c.ix['Case1']"
   ]
  },
  {
   "cell_type": "markdown",
   "metadata": {},
   "source": [
    "Or to use the ``irow`` *function*, that let's you grab the ith row from a DataFrame:"
   ]
  },
  {
   "cell_type": "code",
   "execution_count": null,
   "metadata": {
    "collapsed": false
   },
   "outputs": [],
   "source": [
    "print c.irow(0)"
   ]
  },
  {
   "cell_type": "markdown",
   "metadata": {},
   "source": [
    "### Reading tabular data from a file\n",
    "\n",
    "The ‘pandas’ Python library provides several operators, <code>read_csv(), read_tab(), ...</code> that allows you to access data ﬁles in tabular format on your computer as well as data stored in web repositories.\n",
    "\n",
    "Reading in a data table is simply a matter of knowing the name (and location) of the data set."
   ]
  },
  {
   "cell_type": "code",
   "execution_count": null,
   "metadata": {
    "collapsed": false
   },
   "outputs": [],
   "source": [
    "import pandas as pd\n",
    "import numpy as np\n",
    "\n",
    "# Set some Pandas options\n",
    "pd.set_option('html', False)\n",
    "pd.set_option('max_columns', 30)\n",
    "pd.set_option('max_rows', 20)"
   ]
  },
  {
   "cell_type": "code",
   "execution_count": null,
   "metadata": {
    "collapsed": false
   },
   "outputs": [],
   "source": [
    "import pandas as pd\n",
    "data = pd.read_csv(\"http://www.mosaic-web.org/go/datasets/swim100m.csv\")\n",
    "data.shape   # an attribute to see how many cases and variables there are in a data frame"
   ]
  },
  {
   "cell_type": "code",
   "execution_count": null,
   "metadata": {
    "collapsed": false
   },
   "outputs": [],
   "source": [
    "type(data)"
   ]
  },
  {
   "cell_type": "code",
   "execution_count": null,
   "metadata": {
    "collapsed": false
   },
   "outputs": [],
   "source": [
    "data.head()  # display of the firsts rows"
   ]
  },
  {
   "cell_type": "code",
   "execution_count": null,
   "metadata": {
    "collapsed": false
   },
   "outputs": [],
   "source": [
    "# Load car dataset\n",
    "pd.set_option('html', True)\n",
    "auto = pd.read_csv(\"http://www-bcf.usc.edu/~gareth/ISL/Auto.csv\")\n",
    "auto.tail()  # print the last lines"
   ]
  },
  {
   "cell_type": "markdown",
   "metadata": {},
   "source": [
    "Tabular data generally, involve variables and cases. \n",
    "\n",
    "In ‘pandas’ data frames, each of the variables is given a name. You can refer to the variable by name in a couple of diﬀerent ways:\n",
    "\n",
    "+ We can see the variable names in a data frame by using the columns attribute of the data frame object:"
   ]
  },
  {
   "cell_type": "code",
   "execution_count": null,
   "metadata": {
    "collapsed": false
   },
   "outputs": [],
   "source": [
    "data.columns  # This is not a function; it is an attribute of the data frame."
   ]
  },
  {
   "cell_type": "markdown",
   "metadata": {},
   "source": [
    "+ Another way to get quick information about the variables in a data frame is with the function <code>describe()</code>:"
   ]
  },
  {
   "cell_type": "code",
   "execution_count": null,
   "metadata": {
    "collapsed": false
   },
   "outputs": [],
   "source": [
    "data.describe()  # the output from describe() is itself a data frame."
   ]
  },
  {
   "cell_type": "markdown",
   "metadata": {},
   "source": [
    "### Reading from the clipboard\n",
    "\n",
    "We can also read data directly from the clipboard."
   ]
  },
  {
   "cell_type": "code",
   "execution_count": null,
   "metadata": {
    "collapsed": false
   },
   "outputs": [],
   "source": [
    "# we can select a part of a DataFrame of this page to build a new one.\n",
    "\n",
    "import pandas as pd\n",
    "import numpy as np\n",
    "import matplotlib.pyplot as plt\n",
    "bedford = pd.read_clipboard()\n",
    "bedford.head()"
   ]
  },
  {
   "cell_type": "markdown",
   "metadata": {},
   "source": [
    "### Reading from APIs\n",
    "\n",
    "We can read online data from public API's such as http://www.citybik.es/"
   ]
  },
  {
   "cell_type": "code",
   "execution_count": null,
   "metadata": {
    "collapsed": false
   },
   "outputs": [],
   "source": [
    "import pandas as pd\n",
    "import seaborn as sn\n",
    "d = pd.read_json('http://api.citybik.es/bicing.json')   \n",
    "d.info()"
   ]
  },
  {
   "cell_type": "code",
   "execution_count": null,
   "metadata": {
    "collapsed": false
   },
   "outputs": [],
   "source": [
    "d.tail()"
   ]
  },
  {
   "cell_type": "code",
   "execution_count": null,
   "metadata": {
    "collapsed": false
   },
   "outputs": [],
   "source": [
    "%matplotlib inline\n",
    "import matplotlib.pylab as plt\n",
    "a = plt.hist(d.bikes, bins=10)"
   ]
  },
  {
   "cell_type": "markdown",
   "metadata": {},
   "source": [
    "### ‘pandas’ methods and ‘numpy’ operators and other functions.\n",
    "\n",
    "There are a lot of methods that can be applied to data:"
   ]
  },
  {
   "cell_type": "code",
   "execution_count": null,
   "metadata": {
    "collapsed": false
   },
   "outputs": [],
   "source": [
    "data['year']"
   ]
  },
  {
   "cell_type": "code",
   "execution_count": null,
   "metadata": {
    "collapsed": false
   },
   "outputs": [],
   "source": [
    "print data.year.count()    # number of non-NaN values\n",
    "print data.year.mean()     # mean value \n",
    "print data.year.argmin()   # index location at which min is obtained\n",
    "print data.year.min()      # min value\n",
    "print data.year.sum()   # sum of values"
   ]
  },
  {
   "cell_type": "markdown",
   "metadata": {},
   "source": [
    "It is also possible to combine ‘numpy’ operators with ‘pandas’ variables:"
   ]
  },
  {
   "cell_type": "code",
   "execution_count": null,
   "metadata": {
    "collapsed": false
   },
   "outputs": [],
   "source": [
    "np.min(data[\"year\"])"
   ]
  },
  {
   "cell_type": "markdown",
   "metadata": {},
   "source": [
    "When you encounter a function that isn’t supported by data frames, you can use ‘numpy’ functions or the special <code>apply</code> function built-into data frames.\n",
    "\n",
    "Using the ``apply()``method, which takes an anonymous function, we can apply any function to each value in a column."
   ]
  },
  {
   "cell_type": "code",
   "execution_count": null,
   "metadata": {
    "collapsed": false
   },
   "outputs": [],
   "source": [
    "c = pd.DataFrame({'VarA':['aa','bb'], 'VarB':[20,30]}, index = ['Case1','Case2'])\n",
    "\n",
    "def f(a):\n",
    "    return a**2\n",
    "\n",
    "c.VarB = c.VarB.apply(lambda d: f(d))\n",
    "c"
   ]
  },
  {
   "cell_type": "code",
   "execution_count": null,
   "metadata": {
    "collapsed": false
   },
   "outputs": [],
   "source": [
    "data.year.apply(np.sqrt).head(10) "
   ]
  },
  {
   "cell_type": "markdown",
   "metadata": {},
   "source": [
    "Alternatively, since columns are basically just arrays, we can use built-in numpy functions directly on the columns:"
   ]
  },
  {
   "cell_type": "code",
   "execution_count": null,
   "metadata": {
    "collapsed": false
   },
   "outputs": [],
   "source": [
    "np.sqrt(data.year).head()"
   ]
  },
  {
   "cell_type": "markdown",
   "metadata": {},
   "source": [
    "### Aggregating\n",
    "\n",
    "<code>groupby</code> is the ‘pandas’ way of grouping or aggregating data frames by columns.\n",
    "\n",
    "You can construct statements that involve more than one column within a data frame. \n",
    "\n",
    "For instance, here’s a calculation of the mean year, separately for (grouping by) the different sexes:"
   ]
  },
  {
   "cell_type": "code",
   "execution_count": null,
   "metadata": {
    "collapsed": false
   },
   "outputs": [],
   "source": [
    "data.groupby('sex')['year'].mean()"
   ]
  },
  {
   "cell_type": "code",
   "execution_count": null,
   "metadata": {
    "collapsed": false
   },
   "outputs": [],
   "source": [
    "res = data.groupby(['sex','year'])['time'].mean()\n",
    "res.tail(20)"
   ]
  },
  {
   "cell_type": "markdown",
   "metadata": {},
   "source": [
    "You can iterate through the result of a ``groupby`` (that returns a tuple). The first item is the column values and the second is a filtered dataframe. "
   ]
  },
  {
   "cell_type": "code",
   "execution_count": null,
   "metadata": {
    "collapsed": false
   },
   "outputs": [],
   "source": [
    "data.head()"
   ]
  },
  {
   "cell_type": "code",
   "execution_count": null,
   "metadata": {
    "collapsed": false
   },
   "outputs": [],
   "source": [
    "dic = {}\n",
    "for i,j in data.groupby('sex'):\n",
    "    dic[i] = j.mean()\n",
    "    \n",
    "print dic,"
   ]
  },
  {
   "cell_type": "markdown",
   "metadata": {},
   "source": [
    "You can group by more than one column as well: the first tuple item will itself be a tuple with the value of each column."
   ]
  },
  {
   "cell_type": "code",
   "execution_count": null,
   "metadata": {
    "collapsed": false
   },
   "outputs": [],
   "source": [
    "auto.head()"
   ]
  },
  {
   "cell_type": "code",
   "execution_count": null,
   "metadata": {
    "collapsed": false
   },
   "outputs": [],
   "source": [
    "dic = {}\n",
    "for (i,j), k in auto.groupby(['horsepower','cylinders']):\n",
    "    dic[i,j] = k.mean()\n",
    "    \n",
    "dic"
   ]
  },
  {
   "cell_type": "markdown",
   "metadata": {},
   "source": [
    "### Adding variables\n",
    "\n",
    "Adding a new variable to a data frame can be done similarly to accessing a variable. For instance, here is how to create a new variable in <code>data</code> that holds the <code>time</code> converted from seconds to units of minutes:"
   ]
  },
  {
   "cell_type": "code",
   "execution_count": null,
   "metadata": {
    "collapsed": false
   },
   "outputs": [],
   "source": [
    "data['minutes'] = data.time/60. # or data['time']/60."
   ]
  },
  {
   "cell_type": "markdown",
   "metadata": {},
   "source": [
    "By default, columns get inserted at the end. \n",
    "\n",
    "The <code>insert</code> function is available to insert at a particular location in the columns."
   ]
  },
  {
   "cell_type": "code",
   "execution_count": null,
   "metadata": {
    "collapsed": false
   },
   "outputs": [],
   "source": [
    "data.insert(1, 'mins', data.time/60.)"
   ]
  },
  {
   "cell_type": "markdown",
   "metadata": {},
   "source": [
    "You could also, if you want, redeﬁne an existing variable, for instance:"
   ]
  },
  {
   "cell_type": "code",
   "execution_count": null,
   "metadata": {
    "collapsed": false
   },
   "outputs": [],
   "source": [
    "data['time'] = data.time/60.\n",
    "data.head()"
   ]
  },
  {
   "cell_type": "markdown",
   "metadata": {},
   "source": [
    "The <code>ix[]</code> can also be used to get a subset of the dataframe:"
   ]
  },
  {
   "cell_type": "code",
   "execution_count": null,
   "metadata": {
    "collapsed": false
   },
   "outputs": [],
   "source": [
    "kids = pd.read_csv(\"http://www.mosaic-web.org/go/datasets/kidsfeet.csv\")\n",
    "kids.shape"
   ]
  },
  {
   "cell_type": "code",
   "execution_count": null,
   "metadata": {
    "collapsed": false
   },
   "outputs": [],
   "source": [
    "kids.index"
   ]
  },
  {
   "cell_type": "code",
   "execution_count": null,
   "metadata": {
    "collapsed": false
   },
   "outputs": [],
   "source": [
    "# random sample of 5 cases from this data frame\n",
    "rows = np.random.choice(kids.index, 5, replace=False) \n",
    "\n",
    "kids.ix[rows]"
   ]
  },
  {
   "cell_type": "markdown",
   "metadata": {},
   "source": [
    "The results returned by the above methods will never contain the same case more than once (because we told the function not to sample with replacement). \n",
    "\n",
    "In contrast, ‘re-sampling with replacement’ replaces each case after it is dealt so that it can appear more than once in the result. You wouldn’t want to do this to select from a sampling frame, but it turns out that there are valuable statistical uses for this sort of sampling with replacement."
   ]
  },
  {
   "cell_type": "markdown",
   "metadata": {},
   "source": [
    "### Droping rows and columns.\n",
    "\n",
    "We can delete entire rows and columns:"
   ]
  },
  {
   "cell_type": "code",
   "execution_count": null,
   "metadata": {
    "collapsed": false
   },
   "outputs": [],
   "source": [
    "c = pd.DataFrame({'VarA':['aa','bb'], 'VarB':[20,30]}, index = ['Case1','Case2'])\n",
    "c = c.drop(['Case1'])\n",
    "c"
   ]
  },
  {
   "cell_type": "code",
   "execution_count": null,
   "metadata": {
    "collapsed": false
   },
   "outputs": [],
   "source": [
    "c = pd.DataFrame({'VarA':['aa','bb'], 'VarB':[20,30]}, index = ['Case1','Case2'])\n",
    "c = c.drop(['VarA'], axis=1)\n",
    "c"
   ]
  },
  {
   "cell_type": "markdown",
   "metadata": {},
   "source": [
    "### Handling missing values.\n",
    "\n",
    "Pandas considers that values ``NaN`` and ``None`` represents missing data. \n",
    "\n",
    "The ``pandas.isnull`` function can be used to tell whether or not a value is missing."
   ]
  },
  {
   "cell_type": "code",
   "execution_count": null,
   "metadata": {
    "collapsed": false
   },
   "outputs": [],
   "source": [
    "c = pd.DataFrame({'VarA':['aa', np.nan, 'cc'], 'VarB':[20,30,np.nan], \\\n",
    "                  'VarC':[1234, 3456, 6789]}, index = ['Case1','Case2','Case3'])\n",
    "c"
   ]
  },
  {
   "cell_type": "code",
   "execution_count": null,
   "metadata": {
    "collapsed": false
   },
   "outputs": [],
   "source": [
    "empty = c.apply(lambda c: pd.isnull(c))\n",
    "empty     # Empty returns a boolean dataframe"
   ]
  },
  {
   "cell_type": "markdown",
   "metadata": {},
   "source": [
    "One option is to drop all rows with missing event values using the ``dropna`` function:"
   ]
  },
  {
   "cell_type": "code",
   "execution_count": null,
   "metadata": {
    "collapsed": false
   },
   "outputs": [],
   "source": [
    "c.dropna(subset=[\"VarA\",\"VarB\", \"VarC\"])   # Returns a dataframe copy"
   ]
  },
  {
   "cell_type": "markdown",
   "metadata": {},
   "source": [
    "Another option od to use the ``fillna`` function to fillthem with empty strings:"
   ]
  },
  {
   "cell_type": "code",
   "execution_count": null,
   "metadata": {
    "collapsed": false
   },
   "outputs": [],
   "source": [
    "c = pd.DataFrame({'VarA':['aa', np.nan, 'cc'], 'VarB':[20,30,55], 'VarC':[1234, 3456, 6789]}, \\\n",
    "                 index = ['Case1','Case2','Case3'])\n",
    "c = c.fillna(\"\")\n",
    "c"
   ]
  },
  {
   "cell_type": "markdown",
   "metadata": {},
   "source": [
    "### Filtering\n",
    "\n",
    "One of the main tasks when analyzing a dataset is to select rows by using simple operators. "
   ]
  },
  {
   "cell_type": "code",
   "execution_count": null,
   "metadata": {
    "collapsed": false
   },
   "outputs": [],
   "source": [
    "vc = c[c.VarC > c.VarC.mean()]\n",
    "vc"
   ]
  },
  {
   "cell_type": "markdown",
   "metadata": {},
   "source": [
    "By using Boolean operators we can build combinde filters."
   ]
  },
  {
   "cell_type": "code",
   "execution_count": null,
   "metadata": {
    "collapsed": false
   },
   "outputs": [],
   "source": [
    "vc = c[(c.VarC < c.VarC.mean()) & (c.VarC >= 1000)]\n",
    "vc"
   ]
  },
  {
   "cell_type": "markdown",
   "metadata": {},
   "source": [
    "A filter is a ``Series`` object with Boolean values:"
   ]
  },
  {
   "cell_type": "code",
   "execution_count": null,
   "metadata": {
    "collapsed": false
   },
   "outputs": [],
   "source": [
    "filt = c.VarC < c.VarC.mean()\n",
    "filt"
   ]
  },
  {
   "cell_type": "code",
   "execution_count": null,
   "metadata": {
    "collapsed": false
   },
   "outputs": [],
   "source": [
    "vc = c[filt]\n",
    "vc"
   ]
  },
  {
   "cell_type": "markdown",
   "metadata": {},
   "source": [
    "We can use the ``any`` funtion to see if there is any ``True`` value in a filter:"
   ]
  },
  {
   "cell_type": "code",
   "execution_count": null,
   "metadata": {
    "collapsed": false
   },
   "outputs": [],
   "source": [
    "filt.any()"
   ]
  },
  {
   "cell_type": "markdown",
   "metadata": {},
   "source": [
    "### Writting data"
   ]
  },
  {
   "cell_type": "code",
   "execution_count": null,
   "metadata": {
    "collapsed": false
   },
   "outputs": [],
   "source": [
    "bedford.to_csv(\"files/bedford2.csv\")"
   ]
  },
  {
   "cell_type": "code",
   "execution_count": null,
   "metadata": {
    "collapsed": false
   },
   "outputs": [],
   "source": [
    "bedford.to_csv(\"files/bedford3.csv\", sep=\"\\t\")"
   ]
  },
  {
   "cell_type": "markdown",
   "metadata": {},
   "source": [
    "### Exercise\n",
    "\n",
    "+ Read the titanic dataset from ``files/titanic.xls`` and inspect the first records.\n",
    "+ Are there columns have NaN values? \n",
    "+ Drop those rows with NaN values in ``age``. \n",
    "+ What was the probability of survival? Get a variable with this value.\n",
    "+ What was the probability of survival for each ``pclass``? Get a varible with this value.\n",
    "+ What was the mean age for third class survivors? Get a variable with this value.\n"
   ]
  },
  {
   "cell_type": "code",
   "execution_count": null,
   "metadata": {
    "collapsed": false
   },
   "outputs": [],
   "source": [
    "# Your solution here"
   ]
  },
  {
   "cell_type": "markdown",
   "metadata": {},
   "source": [
    "# Visualization"
   ]
  },
  {
   "cell_type": "code",
   "execution_count": null,
   "metadata": {
    "collapsed": false
   },
   "outputs": [],
   "source": [
    "import pandas as pd  \n",
    "import matplotlib.pylab as plt\n",
    "%matplotlib inline\n",
    "\n",
    "# Load car dataset\n",
    "auto = pd.read_csv(\"http://www-bcf.usc.edu/~gareth/ISL/Auto.csv\")\n",
    "\n",
    "# create a scatterplot of weight vs \"miles per galone\"\n",
    "auto.plot(x='weight', y='mpg', style='bo', alpha=0.4)\n",
    "plt.title(\"Scatterplot of weight and mpg\")\n",
    "\n",
    "# create a histogram of \"miles per galone\"\n",
    "plt.figure()\n",
    "auto.hist('mpg', alpha=0.7)\n",
    "plt.title(\"Histogram of mpg (miles per galone)\")\n"
   ]
  },
  {
   "cell_type": "code",
   "execution_count": null,
   "metadata": {
    "collapsed": false
   },
   "outputs": [],
   "source": [
    "import numpy as np\n",
    "import pandas as pd\n",
    "var = pd.DataFrame({'n': np.random.normal(size=100),\n",
    "                    'g': np.random.gamma(1, size=100),\n",
    "                    'p': np.random.poisson(size=100)})\n",
    "var.cumsum(0).plot()"
   ]
  },
  {
   "cell_type": "code",
   "execution_count": null,
   "metadata": {
    "collapsed": false
   },
   "outputs": [],
   "source": [
    "var.cumsum(0).plot(subplots=True)"
   ]
  },
  {
   "cell_type": "code",
   "execution_count": null,
   "metadata": {
    "collapsed": false
   },
   "outputs": [],
   "source": [
    "var.cumsum(0).plot(secondary_y='n')"
   ]
  },
  {
   "cell_type": "code",
   "execution_count": null,
   "metadata": {
    "collapsed": false
   },
   "outputs": [],
   "source": [
    "fig, axes = plt.subplots(nrows=1, ncols=3, figsize=(12,4))\n",
    "for i,var2 in enumerate(['n','g','p']):\n",
    "    var[var2].cumsum(0).plot(ax=axes[i], title=var2)\n",
    "axes[0].set_ylabel('cum sum')"
   ]
  },
  {
   "cell_type": "code",
   "execution_count": null,
   "metadata": {
    "collapsed": false
   },
   "outputs": [],
   "source": [
    "titanic = pd.read_excel('files/titanic.xls','titanic')"
   ]
  },
  {
   "cell_type": "code",
   "execution_count": null,
   "metadata": {
    "collapsed": true
   },
   "outputs": [],
   "source": [
    "!pip install missingno"
   ]
  },
  {
   "cell_type": "code",
   "execution_count": null,
   "metadata": {
    "collapsed": false
   },
   "outputs": [],
   "source": [
    "import missingno as msno\n",
    "%matplotlib inline\n",
    "\n",
    "# The msno.matrix nullity matrix is a data-dense display which lets you \n",
    "# quickly visually pick out patterns in data completion.\n",
    "msno.matrix(titanic.sample(250))"
   ]
  },
  {
   "cell_type": "code",
   "execution_count": null,
   "metadata": {
    "collapsed": false
   },
   "outputs": [],
   "source": [
    "# The missingno correlation heatmap lets you measure how strongly the presence of one variable positively \n",
    "# or negatively affect the presence of another:\n",
    "\n",
    "msno.heatmap(titanic)"
   ]
  },
  {
   "cell_type": "code",
   "execution_count": null,
   "metadata": {
    "collapsed": false
   },
   "outputs": [],
   "source": [
    "titanic.groupby('pclass').survived.sum().plot(kind='bar',alpha=0.4)"
   ]
  },
  {
   "cell_type": "code",
   "execution_count": null,
   "metadata": {
    "collapsed": false
   },
   "outputs": [],
   "source": [
    "titanic.groupby(['sex','pclass']).survived.sum().plot(kind='barh', alpha=0.4)"
   ]
  },
  {
   "cell_type": "code",
   "execution_count": null,
   "metadata": {
    "collapsed": false
   },
   "outputs": [],
   "source": [
    "death_counts = pd.crosstab([titanic.pclass, titanic.sex], titanic.survived.astype(bool))\n",
    "death_counts.plot(kind='bar',stacked=True, color=['lightgreen','lightblue'], grid=False)"
   ]
  },
  {
   "cell_type": "code",
   "execution_count": null,
   "metadata": {
    "collapsed": false
   },
   "outputs": [],
   "source": [
    "death_counts.div(death_counts.sum(1).astype(float), axis=0).plot(kind='barh', \\\n",
    "            stacked=True, color=['grey','gold'])"
   ]
  },
  {
   "cell_type": "code",
   "execution_count": null,
   "metadata": {
    "collapsed": false
   },
   "outputs": [],
   "source": [
    "titanic.fare.hist(bins=10, grid=False, alpha=0.5), titanic.fare.hist(bins=30, alpha=0.5)"
   ]
  },
  {
   "cell_type": "markdown",
   "metadata": {},
   "source": [
    "There are algorithms for determining an \"optimal\" number of bins, each of which varies somehow with the number of observations in the data series. It is always advisable to \"explore\" different numbers of bins."
   ]
  },
  {
   "cell_type": "code",
   "execution_count": null,
   "metadata": {
    "collapsed": false
   },
   "outputs": [],
   "source": [
    "import numpy as np\n",
    "from scipy import stats\n",
    "\n",
    "np.random.seed(0)\n",
    "x = np.concatenate([stats.cauchy(-5, 1.8).rvs(500),\n",
    "                    stats.cauchy(-4, 0.8).rvs(2000),\n",
    "                    stats.cauchy(-1, 0.3).rvs(500),\n",
    "                    stats.cauchy(2, 0.8).rvs(1000),\n",
    "                    stats.cauchy(4, 1.5).rvs(500)])\n",
    "\n",
    "# truncate values to a reasonable range\n",
    "x = x[(x > -15) & (x < 15)]\n",
    "# Histogram the result\n",
    "import pylab as pl\n",
    "H = pl.hist(x, normed=True, alpha=0.5)"
   ]
  },
  {
   "cell_type": "code",
   "execution_count": null,
   "metadata": {
    "collapsed": false
   },
   "outputs": [],
   "source": [
    "# Histogram with more bins\n",
    "H = pl.hist(x, bins=100, alpha=0.5, normed=True)\n",
    "#pl.savefig('bayesblocks2.png')"
   ]
  },
  {
   "cell_type": "code",
   "execution_count": null,
   "metadata": {
    "collapsed": false
   },
   "outputs": [],
   "source": [
    "def bayesian_blocks(t):\n",
    "    \"\"\"Bayesian Blocks Implementation\n",
    "\n",
    "    By Jake Vanderplas.  License: BSD\n",
    "    Based on algorithm outlined in http://adsabs.harvard.edu/abs/2012arXiv1207.5578S\n",
    "\n",
    "    Parameters\n",
    "    ----------\n",
    "    t : ndarray, length N\n",
    "        data to be histogrammed\n",
    "\n",
    "    Returns\n",
    "    -------\n",
    "    bins : ndarray\n",
    "        array containing the (N+1) bin edges\n",
    "\n",
    "    Notes\n",
    "    -----\n",
    "    This is an incomplete implementation: it may fail for some\n",
    "    datasets.  Alternate fitness functions and prior forms can\n",
    "    be found in the paper listed above.\n",
    "    \"\"\"\n",
    "    # copy and sort the array\n",
    "    t = np.sort(t)\n",
    "    N = t.size\n",
    "\n",
    "    # create length-(N + 1) array of cell edges\n",
    "    edges = np.concatenate([t[:1],\n",
    "                            0.5 * (t[1:] + t[:-1]),\n",
    "                            t[-1:]])\n",
    "    block_length = t[-1] - edges\n",
    "\n",
    "    # arrays needed for the iteration\n",
    "    nn_vec = np.ones(N)\n",
    "    best = np.zeros(N, dtype=float)\n",
    "    last = np.zeros(N, dtype=int)\n",
    "\n",
    "    #-----------------------------------------------------------------\n",
    "    # Start with first data cell; add one cell at each iteration\n",
    "    #-----------------------------------------------------------------\n",
    "    for K in range(N):\n",
    "        # Compute the width and count of the final bin for all possible\n",
    "        # locations of the K^th changepoint\n",
    "        width = block_length[:K + 1] - block_length[K + 1]\n",
    "        count_vec = np.cumsum(nn_vec[:K + 1][::-1])[::-1]\n",
    "\n",
    "        # evaluate fitness function for these possibilities\n",
    "        fit_vec = count_vec * (np.log(count_vec) - np.log(width))\n",
    "        fit_vec -= 4  # 4 comes from the prior on the number of changepoints\n",
    "        fit_vec[1:] += best[:K]\n",
    "\n",
    "        # find the max of the fitness: this is the K^th changepoint\n",
    "        i_max = np.argmax(fit_vec)\n",
    "        last[K] = i_max\n",
    "        best[K] = fit_vec[i_max]\n",
    "    \n",
    "    #-----------------------------------------------------------------\n",
    "    # Recover changepoints by iteratively peeling off the last block\n",
    "    #-----------------------------------------------------------------\n",
    "    change_points =  np.zeros(N, dtype=int)\n",
    "    i_cp = N\n",
    "    ind = N\n",
    "    while True:\n",
    "        i_cp -= 1\n",
    "        change_points[i_cp] = ind\n",
    "        if ind == 0:\n",
    "            break\n",
    "        ind = last[ind - 1]\n",
    "    change_points = change_points[i_cp:]\n",
    "\n",
    "    return edges[change_points]"
   ]
  },
  {
   "cell_type": "code",
   "execution_count": null,
   "metadata": {
    "collapsed": false
   },
   "outputs": [],
   "source": [
    "# plot a standard histogram in the background, with alpha transparency\n",
    "H1 = plt.hist(x, bins=200, histtype='stepfilled', alpha=0.3, normed=True)\n",
    "# plot an adaptive-width histogram on top\n",
    "H2 = plt.hist(x, bins=bayesian_blocks(x), color='red', histtype='step', normed=True)\n",
    "#pl.savefig('bayesblocks3.png')"
   ]
  },
  {
   "cell_type": "markdown",
   "metadata": {},
   "source": [
    "A different way of visualizing the distribution of data is the ``boxplot``, which is a display of common quantiles; these are typically the quartiles and the lower and upper 5 percent values."
   ]
  },
  {
   "cell_type": "code",
   "execution_count": null,
   "metadata": {
    "collapsed": false
   },
   "outputs": [],
   "source": [
    "titanic.boxplot(column='fare', by='pclass', grid=False)"
   ]
  },
  {
   "cell_type": "code",
   "execution_count": null,
   "metadata": {
    "collapsed": false
   },
   "outputs": [],
   "source": [
    "bp = titanic.boxplot(column='age', by='pclass', grid=False)\n",
    "for i in [1,2,3]:\n",
    "    y = titanic.age[titanic.pclass==i].dropna()\n",
    "    # Add some random \"jitter\" to the x-axis\n",
    "    x = np.random.normal(i, 0.04, size=len(y))\n",
    "    plt.plot(x, y, 'r.', alpha=0.2)"
   ]
  },
  {
   "cell_type": "markdown",
   "metadata": {},
   "source": [
    "Scatterplots"
   ]
  },
  {
   "cell_type": "code",
   "execution_count": null,
   "metadata": {
    "collapsed": false
   },
   "outputs": [],
   "source": [
    "baseball = pd.read_csv(\"files/baseball.csv\")\n",
    "baseball.head()"
   ]
  },
  {
   "cell_type": "code",
   "execution_count": null,
   "metadata": {
    "collapsed": false
   },
   "outputs": [],
   "source": [
    "plt.scatter(baseball.ab, baseball.h)\n",
    "plt.xlim(0, 700); plt.ylim(0, 200)"
   ]
  },
  {
   "cell_type": "code",
   "execution_count": null,
   "metadata": {
    "collapsed": false
   },
   "outputs": [],
   "source": [
    "plt.scatter(baseball.ab, baseball.h, s=baseball.hr*10, alpha=0.3)\n",
    "plt.xlim(0, 700); plt.ylim(0, 200)"
   ]
  },
  {
   "cell_type": "code",
   "execution_count": null,
   "metadata": {
    "collapsed": false
   },
   "outputs": [],
   "source": [
    "plt.scatter(baseball.ab, baseball.h, c=baseball.hr, s=baseball.hr*10, alpha=0.5, cmap='hot')\n",
    "plt.xlim(0, 700); plt.ylim(0, 200);"
   ]
  },
  {
   "cell_type": "markdown",
   "metadata": {},
   "source": [
    "To view scatterplots of a large numbers of variables simultaneously, we can use the scatter_matrix function that was recently added to Pandas. It generates a matrix of pair-wise scatterplots, optiorally with histograms or kernel density estimates on the diagonal."
   ]
  },
  {
   "cell_type": "code",
   "execution_count": null,
   "metadata": {
    "collapsed": false
   },
   "outputs": [],
   "source": [
    "_ = pd.scatter_matrix(baseball.loc[:,'r':'sb'], figsize=(12,8), diagonal='kde')"
   ]
  },
  {
   "cell_type": "markdown",
   "metadata": {},
   "source": [
    "### Exercise\n",
    "\n",
    "Movielens 1M database (http://www.grouplens.org/node/73) stores 1,000,209 scorings from 3.900 films that were compiled in 2000 from 6.040 anonymou users of the online MovieLens recommender (http://www.movielens.org/)."
   ]
  },
  {
   "cell_type": "raw",
   "metadata": {},
   "source": [
    "Els continguts de la base de dades són:\n",
    "\n",
    "================================================================================\n",
    "\n",
    "All ratings are contained in the file \"ratings.dat\" and are in the following format:\n",
    "\n",
    "UserID::MovieID::Rating::Timestamp\n",
    "\n",
    "- UserIDs range between 1 and 6040 \n",
    "- MovieIDs range between 1 and 3952\n",
    "- Ratings are made on a 5-star scale (whole-star ratings only)\n",
    "- Timestamp is represented in seconds since the epoch as returned by time(2)\n",
    "- Each user has at least 20 ratings\n",
    "\n",
    "USERS FILE DESCRIPTION\n",
    "================================================================================\n",
    "\n",
    "User information is in the file \"users.dat\" and is in the following format:\n",
    "\n",
    "UserID::Gender::Age::Occupation::Zip-code\n",
    "\n",
    "All demographic information is provided voluntarily by the users and is not checked for accuracy.  Only users who have provided some demographic information are included in this data set.\n",
    "\n",
    "- Gender is denoted by a \"M\" for male and \"F\" for female\n",
    "- Age is chosen from the following ranges:\n",
    "\n",
    "\t*  1:  \"Under 18\"\n",
    "\t* 18:  \"18-24\"\n",
    "\t* 25:  \"25-34\"\n",
    "\t* 35:  \"35-44\"\n",
    "\t* 45:  \"45-49\"\n",
    "\t* 50:  \"50-55\"\n",
    "\t* 56:  \"56+\"\n",
    "\n",
    "- Occupation is chosen from the following choices:\n",
    "\n",
    "\t*  0:  \"other\" or not specified\n",
    "\t*  1:  \"academic/educator\"\n",
    "\t*  2:  \"artist\"\n",
    "\t*  3:  \"clerical/admin\"\n",
    "\t*  4:  \"college/grad student\"\n",
    "\t*  5:  \"customer service\"\n",
    "\t*  6:  \"doctor/health care\"\n",
    "\t*  7:  \"executive/managerial\"\n",
    "\t*  8:  \"farmer\"\n",
    "\t*  9:  \"homemaker\"\n",
    "\t* 10:  \"K-12 student\"\n",
    "\t* 11:  \"lawyer\"\n",
    "\t* 12:  \"programmer\"\n",
    "\t* 13:  \"retired\"\n",
    "\t* 14:  \"sales/marketing\"\n",
    "\t* 15:  \"scientist\"\n",
    "\t* 16:  \"self-employed\"\n",
    "\t* 17:  \"technician/engineer\"\n",
    "\t* 18:  \"tradesman/craftsman\"\n",
    "\t* 19:  \"unemployed\"\n",
    "\t* 20:  \"writer\"\n",
    "\n",
    "MOVIES FILE DESCRIPTION\n",
    "================================================================================\n",
    "\n",
    "Movie information is in the file \"movies.dat\" and is in the following format:\n",
    "\n",
    "MovieID::Title::Genres\n",
    "\n",
    "- Titles are identical to titles provided by the IMDB (including year of release)\n",
    "- Genres are pipe-separated and are selected from the following genres:\n",
    "\n",
    "\t* Action\n",
    "\t* Adventure\n",
    "\t* Animation\n",
    "\t* Children's\n",
    "\t* Comedy\n",
    "\t* Crime\n",
    "\t* Documentary\n",
    "\t* Drama\n",
    "\t* Fantasy\n",
    "\t* Film-Noir\n",
    "\t* Horror\n",
    "\t* Musical\n",
    "\t* Mystery\n",
    "\t* Romance\n",
    "\t* Sci-Fi\n",
    "\t* Thriller\n",
    "\t* War\n",
    "\t* Western\n",
    "\n",
    "- Some MovieIDs do not correspond to a movie due to accidental duplicate entries and/or test entries\n",
    "- Movies are mostly entered by hand, so errors and inconsistencies may exist\n"
   ]
  },
  {
   "cell_type": "markdown",
   "metadata": {},
   "source": [
    "We can read the database:"
   ]
  },
  {
   "cell_type": "code",
   "execution_count": null,
   "metadata": {
    "collapsed": false
   },
   "outputs": [],
   "source": [
    "import pandas as pd\n",
    "unames = ['user_id', 'gender', 'age', 'occupation', 'zip']\n",
    "users = pd.read_table('files/ml-1m/users.dat', sep='::', header=None, names=unames, engine='python')\n",
    "rnames = ['user_id', 'movie_id', 'rating', 'timestamp']\n",
    "ratings = pd.read_table('files/ml-1m/ratings.dat', sep='::', header=None, names=rnames, engine='python')\n",
    "mnames = ['movie_id', 'title', 'genres']\n",
    "movies = pd.read_table('files/ml-1m/movies.dat', sep='::', header=None, names=mnames, engine='python')"
   ]
  },
  {
   "cell_type": "markdown",
   "metadata": {},
   "source": [
    "+ What is the mean score of each user?"
   ]
  },
  {
   "cell_type": "code",
   "execution_count": null,
   "metadata": {
    "collapsed": true
   },
   "outputs": [],
   "source": [
    "# Your code here"
   ]
  },
  {
   "cell_type": "markdown",
   "metadata": {},
   "source": [
    "+ Write a function that given a user returns the movie with highest score."
   ]
  },
  {
   "cell_type": "code",
   "execution_count": null,
   "metadata": {
    "collapsed": true
   },
   "outputs": [],
   "source": [
    "# Your code here"
   ]
  },
  {
   "cell_type": "markdown",
   "metadata": {},
   "source": [
    "Let's build a very basic movie recommender! \n",
    "\n",
    "First, we will define training and testing datasets."
   ]
  },
  {
   "cell_type": "code",
   "execution_count": null,
   "metadata": {
    "collapsed": false
   },
   "outputs": [],
   "source": [
    "import numpy as np\n",
    "\n",
    "def assign_to_set(df):\n",
    "    sampled_ids = np.random.choice(df.index,\n",
    "                                   size=np.int64(np.ceil(df.index.size * 0.2)),\n",
    "                                   replace=False)\n",
    "    df.ix[sampled_ids, 'for_testing'] = True\n",
    "    return df\n",
    "data = pd.merge(pd.merge(ratings, users), movies)\n",
    "data['for_testing'] = False\n",
    "grouped = data.groupby('user_id', group_keys=False).apply(assign_to_set)\n",
    "movielens_train = data[grouped.for_testing == False]\n",
    "movielens_test = data[grouped.for_testing == True]\n",
    "print movielens_train.shape\n",
    "print movielens_test.shape"
   ]
  },
  {
   "cell_type": "markdown",
   "metadata": {},
   "source": [
    "``evaluate`` will compute the precision of the recommender system by using the RMSE metric:"
   ]
  },
  {
   "cell_type": "code",
   "execution_count": null,
   "metadata": {
    "collapsed": true
   },
   "outputs": [],
   "source": [
    "def compute_rmse(y_pred, y_true):\n",
    "    return np.sqrt(np.mean(np.power(y_pred - y_true, 2)))\n",
    "\n",
    "def evaluate(estimate,test=movielens_test):\n",
    "    ids_to_estimate = zip(test['user_id'], test['movie_id'])\n",
    "    estimated = np.array([estimate(u,i) for (u,i) in ids_to_estimate])\n",
    "    real = test.rating.values\n",
    "    return compute_rmse(estimated, real)"
   ]
  },
  {
   "cell_type": "markdown",
   "metadata": {},
   "source": [
    "+ Write a function that, given a user, scores any film with the mean scoring of that user."
   ]
  },
  {
   "cell_type": "code",
   "execution_count": null,
   "metadata": {
    "collapsed": false
   },
   "outputs": [],
   "source": [
    "def rec1(user_id, item_id,train=movielens_train):\n",
    "    #Put your recomender here\n",
    "    return 1\n",
    "\n",
    "print 'Error: %s' % evaluate(rec1)"
   ]
  },
  {
   "cell_type": "markdown",
   "metadata": {},
   "source": [
    "# Matplotlib\n",
    "\n",
    "Matplotlib is a plotting library. In this section give a brief introduction to the `matplotlib.pyplot` module, which provides a plotting system similar to that of MATLAB."
   ]
  },
  {
   "cell_type": "code",
   "execution_count": null,
   "metadata": {
    "collapsed": true
   },
   "outputs": [],
   "source": [
    "import matplotlib.pyplot as plt\n",
    "%matplotlib inline"
   ]
  },
  {
   "cell_type": "markdown",
   "metadata": {},
   "source": [
    "The most important function in `matplotlib` is plot, which allows you to plot 2D data. Here is a simple example:"
   ]
  },
  {
   "cell_type": "code",
   "execution_count": null,
   "metadata": {
    "collapsed": false
   },
   "outputs": [],
   "source": [
    "# Compute the x and y coordinates for points on a sine curve\n",
    "x = np.arange(0, 3 * np.pi, 0.1)\n",
    "y = np.sin(x)\n",
    "\n",
    "# Plot the points using matplotlib\n",
    "plt.plot(x, y)"
   ]
  },
  {
   "cell_type": "markdown",
   "metadata": {},
   "source": [
    "With just a little bit of extra work we can easily plot multiple lines at once, and add a title, legend, and axis labels:"
   ]
  },
  {
   "cell_type": "code",
   "execution_count": null,
   "metadata": {
    "collapsed": false
   },
   "outputs": [],
   "source": [
    "y_cos = np.cos(x)\n",
    "y_sin = np.sin(x)\n",
    "# Plot the points using matplotlib\n",
    "plt.plot(x, y_sin)\n",
    "plt.plot(x, y_cos)\n",
    "plt.xlabel('x axis label')\n",
    "plt.ylabel('y axis label')\n",
    "plt.title('Sine and Cosine')\n",
    "plt.legend(['Sine', 'Cosine'])"
   ]
  },
  {
   "cell_type": "markdown",
   "metadata": {},
   "source": [
    "### Subplots \n",
    "\n",
    "You can plot different things in the same figure using the subplot function. Here is an example:"
   ]
  },
  {
   "cell_type": "code",
   "execution_count": null,
   "metadata": {
    "collapsed": false
   },
   "outputs": [],
   "source": [
    "# Compute the x and y coordinates for points on sine and cosine curves\n",
    "x = np.arange(0, 3 * np.pi, 0.1)\n",
    "y_sin = np.sin(x)\n",
    "y_cos = np.cos(x)\n",
    "\n",
    "# Set up a subplot grid that has height 2 and width 1,\n",
    "# and set the first such subplot as active.\n",
    "plt.subplot(2, 1, 1)\n",
    "\n",
    "# Make the first plot\n",
    "plt.plot(x, y_sin)\n",
    "plt.title('Sine')\n",
    "\n",
    "# Set the second subplot as active, and make the second plot.\n",
    "plt.subplot(2, 1, 2)\n",
    "plt.plot(x, y_cos)\n",
    "plt.title('Cosine')\n",
    "\n",
    "# Show the figure.\n",
    "plt.show()"
   ]
  },
  {
   "cell_type": "code",
   "execution_count": null,
   "metadata": {
    "collapsed": false
   },
   "outputs": [],
   "source": [
    "plt.style.use('seaborn-whitegrid')\n",
    "import numpy as np\n",
    "\n",
    "x = np.linspace(0, 10, 30)\n",
    "y = np.sin(x)\n",
    "\n",
    "plt.plot(x, y, 'o', color='black');"
   ]
  },
  {
   "cell_type": "code",
   "execution_count": null,
   "metadata": {
    "collapsed": false
   },
   "outputs": [],
   "source": [
    "rng = np.random.RandomState(0)\n",
    "for marker in ['o', '.', ',', 'x', '+', 'v', '^', '<', '>', 's', 'd']:\n",
    "    plt.plot(rng.rand(5), rng.rand(5), marker,\n",
    "             label=\"marker='{0}'\".format(marker))\n",
    "plt.legend(numpoints=1)\n",
    "plt.xlim(0, 1.8);"
   ]
  },
  {
   "cell_type": "code",
   "execution_count": null,
   "metadata": {
    "collapsed": false
   },
   "outputs": [],
   "source": [
    "\n",
    "rng = np.random.RandomState(0)\n",
    "x = rng.randn(100)\n",
    "y = rng.randn(100)\n",
    "colors = rng.rand(100)\n",
    "sizes = 1000 * rng.rand(100)\n",
    "\n",
    "plt.scatter(x, y, c=colors, s=sizes, alpha=0.3,\n",
    "            cmap='viridis')\n",
    "plt.colorbar();  # show color scale"
   ]
  },
  {
   "cell_type": "code",
   "execution_count": null,
   "metadata": {
    "collapsed": false
   },
   "outputs": [],
   "source": [
    "from sklearn.datasets import load_iris\n",
    "iris = load_iris()\n",
    "features = iris.data.T\n",
    "\n",
    "plt.scatter(features[0], features[1], alpha=0.2,\n",
    "            s=100*features[3], c=iris.target, cmap='viridis')\n",
    "plt.xlabel(iris.feature_names[0])\n",
    "plt.ylabel(iris.feature_names[1]);"
   ]
  },
  {
   "cell_type": "code",
   "execution_count": null,
   "metadata": {
    "collapsed": false
   },
   "outputs": [],
   "source": [
    "\n",
    "x = np.linspace(0, 10, 50)\n",
    "dy = 0.8\n",
    "y = np.sin(x) + dy * np.random.randn(50)\n",
    "\n",
    "plt.errorbar(x, y, yerr=dy, fmt='.k');"
   ]
  },
  {
   "cell_type": "code",
   "execution_count": null,
   "metadata": {
    "collapsed": false
   },
   "outputs": [],
   "source": [
    "plt.errorbar(x, y, yerr=dy, fmt='o', color='black',\n",
    "             ecolor='lightgray', elinewidth=3, capsize=0);"
   ]
  },
  {
   "cell_type": "markdown",
   "metadata": {},
   "source": [
    "You can read much more about the `matplotlib` in the [documentation](http://matplotlib.org/api/pyplot_api.html)."
   ]
  },
  {
   "cell_type": "markdown",
   "metadata": {},
   "source": [
    "# Sklearn\n",
    "\n",
    "Supervised learning:\n",
    "\n",
    "+ Linear models (Ridge, Lasso, Elastic Net, ...)\n",
    "+ Support Vector Machines\n",
    "+ Tree-based methods (Random Forests, Bagging, GBRT, ...)\n",
    "+ Nearest neighbors\n",
    "+ Neural networks\n",
    "+ Gaussian Processes\n",
    "+ Feature selection\n",
    "\n",
    "Unsupervised learning:\n",
    "+ Clustering (KMeans, Ward, ...)\n",
    "+ Matrix decomposition (PCA, ICA, ...)\n",
    "+ Density estimation\n",
    "+ Outlier detection\n",
    "\n",
    "Model selection and evaluation:\n",
    "+ Cross-validation\n",
    "+ Grid-search\n",
    "+ Lots of metrics\n",
    "\n",
    "... and many more! (See [http://scikit-learn.org/])"
   ]
  },
  {
   "cell_type": "code",
   "execution_count": null,
   "metadata": {
    "collapsed": false
   },
   "outputs": [],
   "source": [
    "import seaborn as sns\n",
    "iris = sns.load_dataset('iris')\n",
    "iris.head()"
   ]
  },
  {
   "cell_type": "code",
   "execution_count": null,
   "metadata": {
    "collapsed": false
   },
   "outputs": [],
   "source": [
    "%matplotlib inline\n",
    "import seaborn as sns; sns.set()\n",
    "sns.pairplot(iris, hue='species', size=1.5);"
   ]
  },
  {
   "cell_type": "code",
   "execution_count": null,
   "metadata": {
    "collapsed": false
   },
   "outputs": [],
   "source": [
    "X_iris = iris.drop('species', axis=1)\n",
    "X_iris.shape"
   ]
  },
  {
   "cell_type": "code",
   "execution_count": null,
   "metadata": {
    "collapsed": false
   },
   "outputs": [],
   "source": [
    "y_iris = iris['species']\n",
    "y_iris.shape"
   ]
  },
  {
   "cell_type": "code",
   "execution_count": null,
   "metadata": {
    "collapsed": false
   },
   "outputs": [],
   "source": [
    "rng = np.random.RandomState(42)\n",
    "x = 10 * rng.rand(50)\n",
    "y = 2 * x - 1 + rng.randn(50)\n",
    "plt.scatter(x, y);"
   ]
  },
  {
   "cell_type": "code",
   "execution_count": null,
   "metadata": {
    "collapsed": false
   },
   "outputs": [],
   "source": [
    "from sklearn.linear_model import LinearRegression\n",
    "model = LinearRegression(fit_intercept=True)\n",
    "model"
   ]
  },
  {
   "cell_type": "code",
   "execution_count": null,
   "metadata": {
    "collapsed": false
   },
   "outputs": [],
   "source": [
    "X = x[:, np.newaxis]\n",
    "X.shape"
   ]
  },
  {
   "cell_type": "code",
   "execution_count": null,
   "metadata": {
    "collapsed": false
   },
   "outputs": [],
   "source": [
    "model.fit(X, y)"
   ]
  },
  {
   "cell_type": "code",
   "execution_count": null,
   "metadata": {
    "collapsed": false
   },
   "outputs": [],
   "source": [
    "model.coef_"
   ]
  },
  {
   "cell_type": "code",
   "execution_count": null,
   "metadata": {
    "collapsed": false
   },
   "outputs": [],
   "source": [
    "model.intercept_"
   ]
  },
  {
   "cell_type": "code",
   "execution_count": null,
   "metadata": {
    "collapsed": true
   },
   "outputs": [],
   "source": [
    "xfit = np.linspace(-1, 11)"
   ]
  },
  {
   "cell_type": "code",
   "execution_count": null,
   "metadata": {
    "collapsed": true
   },
   "outputs": [],
   "source": [
    "Xfit = xfit[:, np.newaxis]\n",
    "yfit = model.predict(Xfit)"
   ]
  },
  {
   "cell_type": "code",
   "execution_count": null,
   "metadata": {
    "collapsed": false
   },
   "outputs": [],
   "source": [
    "plt.scatter(x, y)\n",
    "plt.plot(xfit, yfit);"
   ]
  },
  {
   "cell_type": "code",
   "execution_count": null,
   "metadata": {
    "collapsed": true
   },
   "outputs": [],
   "source": [
    "from sklearn.cross_validation import train_test_split\n",
    "Xtrain, Xtest, ytrain, ytest = train_test_split(X_iris, y_iris,random_state=1)"
   ]
  },
  {
   "cell_type": "code",
   "execution_count": null,
   "metadata": {
    "collapsed": false
   },
   "outputs": [],
   "source": [
    "from sklearn.naive_bayes import GaussianNB # 1. choose model class\n",
    "model = GaussianNB()                       # 2. instantiate model\n",
    "model.fit(Xtrain, ytrain)                  # 3. fit model to data\n",
    "y_model = model.predict(Xtest)             # 4. predict on new data"
   ]
  },
  {
   "cell_type": "code",
   "execution_count": null,
   "metadata": {
    "collapsed": false
   },
   "outputs": [],
   "source": [
    "from sklearn.metrics import accuracy_score\n",
    "accuracy_score(ytest, y_model)"
   ]
  },
  {
   "cell_type": "code",
   "execution_count": null,
   "metadata": {
    "collapsed": true
   },
   "outputs": [],
   "source": [
    "from sklearn.mixture import GMM      # 1. Choose the model class\n",
    "model = GMM(n_components=3,\n",
    "            covariance_type='full')  # 2. Instantiate the model with hyperparameters\n",
    "model.fit(X_iris)                    # 3. Fit to data. Notice y is not specified!\n",
    "y_gmm = model.predict(X_iris)        # 4. Determine cluster labels"
   ]
  },
  {
   "cell_type": "code",
   "execution_count": null,
   "metadata": {
    "collapsed": false
   },
   "outputs": [],
   "source": [
    "from sklearn.decomposition import PCA  # 1. Choose the model class\n",
    "model = PCA(n_components=2)            # 2. Instantiate the model with hyperparameters\n",
    "model.fit(X_iris)                      # 3. Fit to data. Notice y is not specified!\n",
    "X_2D = model.transform(X_iris)         # 4. Transform the data to two dimensions\n",
    "\n",
    "iris['PCA1'] = X_2D[:, 0]\n",
    "iris['PCA2'] = X_2D[:, 1]\n",
    "sns.lmplot(\"PCA1\", \"PCA2\", hue='species', data=iris, fit_reg=False);\n",
    "\n",
    "iris['cluster'] = y_gmm\n",
    "sns.lmplot(\"PCA1\", \"PCA2\", data=iris, hue='species', col='cluster', fit_reg=False);"
   ]
  },
  {
   "cell_type": "code",
   "execution_count": null,
   "metadata": {
    "collapsed": false
   },
   "outputs": [],
   "source": [
    "from sklearn.datasets import make_blobs\n",
    "\n",
    "X, y = make_blobs(n_samples=300, centers=4,\n",
    "                  random_state=0, cluster_std=1.0)\n",
    "plt.scatter(X[:, 0], X[:, 1], c=y, s=50, cmap='rainbow');"
   ]
  },
  {
   "cell_type": "code",
   "execution_count": null,
   "metadata": {
    "collapsed": true
   },
   "outputs": [],
   "source": [
    "from sklearn.tree import DecisionTreeClassifier\n",
    "tree = DecisionTreeClassifier().fit(X, y)"
   ]
  },
  {
   "cell_type": "code",
   "execution_count": null,
   "metadata": {
    "collapsed": false
   },
   "outputs": [],
   "source": [
    "def visualize_classifier(model, X, y, ax=None, cmap='rainbow'):\n",
    "    ax = ax or plt.gca()\n",
    "    \n",
    "    # Plot the training points\n",
    "    ax.scatter(X[:, 0], X[:, 1], c=y, s=30, cmap=cmap,\n",
    "               clim=(y.min(), y.max()), zorder=3)\n",
    "    ax.axis('tight')\n",
    "    ax.axis('off')\n",
    "    xlim = ax.get_xlim()\n",
    "    ylim = ax.get_ylim()\n",
    "    \n",
    "    # fit the estimator\n",
    "    model.fit(X, y)\n",
    "    xx, yy = np.meshgrid(np.linspace(*xlim, num=200),\n",
    "                         np.linspace(*ylim, num=200))\n",
    "    Z = model.predict(np.c_[xx.ravel(), yy.ravel()]).reshape(xx.shape)\n",
    "\n",
    "    # Create a color plot with the results\n",
    "    n_classes = len(np.unique(y))\n",
    "    contours = ax.contourf(xx, yy, Z, alpha=0.3,\n",
    "                           levels=np.arange(n_classes + 1) - 0.5,\n",
    "                           cmap=cmap, clim=(y.min(), y.max()),\n",
    "                           zorder=1)\n",
    "\n",
    "    ax.set(xlim=xlim, ylim=ylim)\n",
    "\n",
    "visualize_classifier(DecisionTreeClassifier(), X, y)\n"
   ]
  },
  {
   "cell_type": "code",
   "execution_count": null,
   "metadata": {
    "collapsed": false
   },
   "outputs": [],
   "source": [
    "from sklearn.ensemble import RandomForestClassifier\n",
    "\n",
    "model = RandomForestClassifier(n_estimators=100, random_state=0)\n",
    "visualize_classifier(model, X, y);"
   ]
  },
  {
   "cell_type": "code",
   "execution_count": null,
   "metadata": {
    "collapsed": false
   },
   "outputs": [],
   "source": [
    "rng = np.random.RandomState(42)\n",
    "x = 10 * rng.rand(200)\n",
    "\n",
    "def model(x, sigma=0.3):\n",
    "    fast_oscillation = np.sin(5 * x)\n",
    "    slow_oscillation = np.sin(0.5 * x)\n",
    "    noise = sigma * rng.randn(len(x))\n",
    "\n",
    "    return slow_oscillation + fast_oscillation + noise\n",
    "\n",
    "y = model(x)\n",
    "plt.errorbar(x, y, 0.3, fmt='o');"
   ]
  },
  {
   "cell_type": "code",
   "execution_count": null,
   "metadata": {
    "collapsed": false
   },
   "outputs": [],
   "source": [
    "from sklearn.ensemble import RandomForestRegressor\n",
    "forest = RandomForestRegressor(200)\n",
    "forest.fit(x[:, None], y)\n",
    "\n",
    "xfit = np.linspace(0, 10, 1000)\n",
    "yfit = forest.predict(xfit[:, None])\n",
    "ytrue = model(xfit, sigma=0)\n",
    "\n",
    "plt.errorbar(x, y, 0.3, fmt='o', alpha=0.5)\n",
    "plt.plot(xfit, yfit, '-r');\n",
    "plt.plot(xfit, ytrue, '-k', alpha=0.5);"
   ]
  }
 ],
 "metadata": {
  "anaconda-cloud": {},
  "kernelspec": {
   "display_name": "Python 2",
   "language": "python",
   "name": "python2"
  },
  "language_info": {
   "codemirror_mode": {
    "name": "ipython",
    "version": 2
   },
   "file_extension": ".py",
   "mimetype": "text/x-python",
   "name": "python",
   "nbconvert_exporter": "python",
   "pygments_lexer": "ipython2",
   "version": "2.7.11"
  }
 },
 "nbformat": 4,
 "nbformat_minor": 0
}
